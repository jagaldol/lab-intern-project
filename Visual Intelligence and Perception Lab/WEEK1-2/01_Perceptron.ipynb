{
  "cells": [
    {
      "cell_type": "markdown",
      "metadata": {
        "id": "JmzQnrj_qAK2"
      },
      "source": [
        "Code Reference: Python Machine Learning: Machine Learning and Deep Learning with Python, scikit-learn, and TensorFlow 2, 3rd Edition"
      ]
    },
    {
      "cell_type": "code",
      "execution_count": null,
      "metadata": {
        "execution": {
          "iopub.execute_input": "2021-10-23T05:49:14.421678Z",
          "iopub.status.busy": "2021-10-23T05:49:14.420609Z",
          "iopub.status.idle": "2021-10-23T05:49:14.423029Z",
          "shell.execute_reply": "2021-10-23T05:49:14.422347Z"
        },
        "id": "H7hW_HzPqAK8"
      },
      "outputs": [],
      "source": [
        "from IPython.display import Image\n",
        "%matplotlib inline\n",
        "import matplotlib.pyplot as plt\n",
        "import numpy as np"
      ]
    },
    {
      "cell_type": "markdown",
      "metadata": {
        "id": "E813AMpDqALA"
      },
      "source": [
        "# Implementing a perceptron learning algorithm in Python"
      ]
    },
    {
      "cell_type": "code",
      "execution_count": null,
      "metadata": {
        "execution": {
          "iopub.execute_input": "2021-10-23T05:49:16.248170Z",
          "iopub.status.busy": "2021-10-23T05:49:16.246966Z",
          "iopub.status.idle": "2021-10-23T05:49:16.249608Z",
          "shell.execute_reply": "2021-10-23T05:49:16.248983Z"
        },
        "id": "RKhIj0ynqALE"
      },
      "outputs": [],
      "source": [
        "from matplotlib.colors import ListedColormap\n",
        "\n",
        "\n",
        "def plot_decision_regions(X, y, classifier, resolution=0.02):\n",
        "\n",
        "    # 마커와 컬러맵을 설정합니다\n",
        "    markers = ('s', 'x', 'o', '^', 'v')\n",
        "    colors = ('red', 'blue', 'lightgreen', 'gray', 'cyan')\n",
        "    cmap = ListedColormap(colors[:len(np.unique(y))])\n",
        "\n",
        "    # 결정 경계를 그립니다\n",
        "    x1_min, x1_max = X[:, 0].min() - 1, X[:, 0].max() + 1  # 꽃받침 길이 최소/최대\n",
        "    x2_min, x2_max = X[:, 1].min() - 1, X[:, 1].max() + 1  # 꽃잎 길이 최소/최대\n",
        "    xx1, xx2 = np.meshgrid(np.arange(x1_min, x1_max, resolution),\n",
        "                           np.arange(x2_min, x2_max, resolution))\n",
        "    Z = classifier.predict(np.array([xx1.ravel(), xx2.ravel()]).T)\n",
        "    Z = Z.reshape(xx1.shape)\n",
        "    plt.contourf(xx1, xx2, Z, alpha=0.3, cmap=cmap)\n",
        "    plt.xlim(xx1.min(), xx1.max())\n",
        "    plt.ylim(xx2.min(), xx2.max())\n",
        "\n",
        "    # 샘플의 산점도를 그립니다\n",
        "    for idx, cl in enumerate(np.unique(y)):\n",
        "        plt.scatter(x=X[y == cl, 0], \n",
        "                    y=X[y == cl, 1],\n",
        "                    alpha=0.8, \n",
        "                    c=colors[idx],\n",
        "                    marker=markers[idx], \n",
        "                    label=cl, \n",
        "                    edgecolor=None if idx==1 else 'black')"
      ]
    },
    {
      "cell_type": "markdown",
      "metadata": {
        "id": "X53-_PH3qALA"
      },
      "source": [
        "## An object-oriented perceptron API"
      ]
    },
    {
      "cell_type": "code",
      "execution_count": null,
      "metadata": {
        "execution": {
          "iopub.execute_input": "2021-10-23T05:49:14.476082Z",
          "iopub.status.busy": "2021-10-23T05:49:14.473555Z",
          "iopub.status.idle": "2021-10-23T05:49:14.611511Z",
          "shell.execute_reply": "2021-10-23T05:49:14.612056Z"
        },
        "id": "UYXKL2ixqALA"
      },
      "outputs": [],
      "source": [
        "import numpy as np\n",
        "\n",
        "\n",
        "class Perceptron(object):\n",
        "    \"\"\"퍼셉트론 분류기\n",
        "\n",
        "    매개변수\n",
        "    ------------\n",
        "    eta : float\n",
        "      학습률 (0.0과 1.0 사이)\n",
        "    n_iter : int\n",
        "      훈련 데이터셋 반복 횟수\n",
        "    random_state : int\n",
        "      가중치 무작위 초기화를 위한 난수 생성기 시드\n",
        "\n",
        "    속성\n",
        "    -----------\n",
        "    w_ : 1d-array\n",
        "      학습된 가중치\n",
        "    errors_ : list\n",
        "      에포크마다 누적된 분류 오류\n",
        "\n",
        "    \"\"\"\n",
        "    def __init__(self, eta=0.01, n_iter=50, random_state=1):\n",
        "        self.eta = eta\n",
        "        self.n_iter = n_iter\n",
        "        self.random_state = random_state\n",
        "\n",
        "    def fit_with_visualization(self, X, y, visualize=True):\n",
        "        \"\"\"훈련 데이터 학습\n",
        "\n",
        "        매개변수\n",
        "        ----------\n",
        "        X : array-like, shape = [n_samples, n_features]\n",
        "          n_samples개의 샘플과 n_features개의 특성으로 이루어진 훈련 데이터\n",
        "        y : array-like, shape = [n_samples]\n",
        "          타깃값\n",
        "\n",
        "        반환값\n",
        "        -------\n",
        "        self : object\n",
        "\n",
        "        \"\"\"\n",
        "        rgen = np.random.RandomState(self.random_state)\n",
        "        self.w_ = rgen.normal(loc=0.0, scale=0.01, size=1 + X.shape[1])\n",
        "        self.errors_ = []\n",
        "\n",
        "        for iter in range(self.n_iter):\n",
        "            errors = 0\n",
        "            for xi, target in zip(X, y):\n",
        "\n",
        "                ##################################################\n",
        "                # update 수식을 참고하여 빈 칸을 채워 보세요\n",
        "\n",
        "                update = \n",
        "                self.w_[1:] += \n",
        "                self.w_[0] += \n",
        "\n",
        "                ##################################################\n",
        "\n",
        "                errors += int(update != 0.0)\n",
        "            self.errors_.append(errors)\n",
        "\n",
        "            if visualize:\n",
        "                plt.clf()\n",
        "                plt.cla()\n",
        "                plot_decision_regions(X, y, classifier=self)\n",
        "                plt.title('Adaline - Gradient Descent (Iter : {})'.format(iter))\n",
        "                plt.xlabel('sepal length [standardized]')\n",
        "                plt.ylabel('petal length [standardized]')\n",
        "                plt.legend(loc='upper left')\n",
        "                plt.tight_layout()\n",
        "                plt.show()\n",
        "\n",
        "        return self\n",
        "\n",
        "    def net_input(self, X):\n",
        "        \"\"\"입력 계산\"\"\"\n",
        "        return np.dot(X, self.w_[1:]) + self.w_[0]\n",
        "\n",
        "    def predict(self, X):\n",
        "        \"\"\"단위 계단 함수를 사용하여 클래스 레이블을 반환합니다\"\"\"\n",
        "        return np.where(self.net_input(X) >= 0.0, 1, -1)"
      ]
    },
    {
      "cell_type": "markdown",
      "metadata": {
        "id": "TXzkl6OdqALB"
      },
      "source": [
        "## Training a perceptron model on the Iris dataset"
      ]
    },
    {
      "cell_type": "markdown",
      "metadata": {
        "id": "raRwqKBRqALC"
      },
      "source": [
        "### Reading-in the Iris data"
      ]
    },
    {
      "cell_type": "code",
      "execution_count": null,
      "metadata": {
        "execution": {
          "iopub.execute_input": "2021-10-23T05:49:14.624758Z",
          "iopub.status.busy": "2021-10-23T05:49:14.624131Z",
          "iopub.status.idle": "2021-10-23T05:49:15.647834Z",
          "shell.execute_reply": "2021-10-23T05:49:15.647022Z"
        },
        "id": "7fZajroDqALC"
      },
      "outputs": [],
      "source": [
        "import os\n",
        "import pandas as pd\n",
        "\n",
        "\n",
        "s = 'https://archive.ics.uci.edu/ml/machine-learning-databases/iris/iris.data'\n",
        "print('URL:', s)\n",
        "\n",
        "df = pd.read_csv(s, header=None, encoding='utf-8')\n",
        "df.tail()"
      ]
    },
    {
      "cell_type": "markdown",
      "metadata": {
        "id": "YFUKi7gUqALC"
      },
      "source": [
        "<hr>\n",
        "\n",
        "### 노트:\n",
        "\n",
        "이 깃허브에는 붓꽃 데이터셋이 포함되어 있습니다(이 책에서 사용하는 다른 데이터셋도 모두 포함되어 있습니다). 인터넷에 연결되어 있지 않거나 이따금 UCI 서버(https://archive.ics.uci.edu/ml/datasets/Iris) 에 접근할 수 없을 때 사용할 수 있습니다. 이런 경우 로컬 디렉터리에서 붓꽃 데이터를 로드하려면 다음 코드를\n",
        "```python\n",
        "    df = pd.read_csv('https://archive.ics.uci.edu/ml/'\n",
        "        'machine-learning-databases/iris/iris.data', header=None)\n",
        "```\n",
        "다음과 같이 바꿉니다.\n",
        "```python \n",
        "    df = pd.read_csv('your/local/path/to/iris.data', header=None)\n",
        "```\n",
        "그다음 다음 코드를 실행합니다.\n",
        "```python\n",
        "    df = pd.read_csv('iris.data', header=None, encoding='utf-8')\n",
        "    df.tail()\n",
        "```\n",
        "\n",
        "<hr>"
      ]
    },
    {
      "cell_type": "markdown",
      "metadata": {
        "id": "Lc6Bt3ogqALD"
      },
      "source": [
        "### Plotting the Iris data"
      ]
    },
    {
      "cell_type": "code",
      "execution_count": null,
      "metadata": {
        "execution": {
          "iopub.execute_input": "2021-10-23T05:49:15.658083Z",
          "iopub.status.busy": "2021-10-23T05:49:15.657338Z",
          "iopub.status.idle": "2021-10-23T05:49:16.078313Z",
          "shell.execute_reply": "2021-10-23T05:49:16.077583Z"
        },
        "id": "XcshxMesqALD"
      },
      "outputs": [],
      "source": [
        "# setosa와 versicolor를 선택합니다\n",
        "y = df.iloc[0:100, 4].values\n",
        "y = np.where(y == 'Iris-setosa', -1, 1)\n",
        "\n",
        "# 꽃받침 길이와 꽃잎 길이를 추출합니다\n",
        "X = df.iloc[0:100, [0, 2]].values\n",
        "\n",
        "# 산점도를 그립니다, setosa-음성, versicolor-양성\n",
        "plt.scatter(X[:50, 0], X[:50, 1],\n",
        "            color='red', marker='o', label='setosa')\n",
        "plt.scatter(X[50:100, 0], X[50:100, 1],\n",
        "            color='blue', marker='x', label='versicolor')\n",
        "\n",
        "plt.xlabel('sepal length [cm]')\n",
        "plt.ylabel('petal length [cm]')\n",
        "plt.legend(loc='upper left')\n",
        "\n",
        "# plt.savefig('images/02_06.png', dpi=300)\n",
        "plt.show()"
      ]
    },
    {
      "cell_type": "code",
      "source": [
        "y = df.iloc[0:100, 4].values\n",
        "y = np.where(y == 'Iris-setosa', -1, 1)\n",
        "print(y)"
      ],
      "metadata": {
        "id": "FdplpBtuCHxL"
      },
      "execution_count": null,
      "outputs": []
    },
    {
      "cell_type": "markdown",
      "metadata": {
        "id": "i1Iv80F_qALD"
      },
      "source": [
        "### Training the perceptron model"
      ]
    },
    {
      "cell_type": "code",
      "source": [
        "# 여러가지 eta 값을 이용해 실행 해 보세요.\n",
        "ppn = Perceptron(eta=0.1, n_iter=10, random_state=100)\n",
        "# ppn = Perceptron(eta=0.5, n_iter=10, random_state=100)\n",
        "\n",
        "ppn.fit_with_visualization(X, y)"
      ],
      "metadata": {
        "id": "oaNfW6jZn5DO"
      },
      "execution_count": null,
      "outputs": []
    },
    {
      "cell_type": "code",
      "execution_count": null,
      "metadata": {
        "execution": {
          "iopub.execute_input": "2021-10-23T05:49:16.137478Z",
          "iopub.status.busy": "2021-10-23T05:49:16.083504Z",
          "iopub.status.idle": "2021-10-23T05:49:16.234584Z",
          "shell.execute_reply": "2021-10-23T05:49:16.235431Z"
        },
        "id": "i7rZoVY9qALE"
      },
      "outputs": [],
      "source": [
        "plt.plot(range(1, len(ppn.errors_) + 1), ppn.errors_, marker='o')\n",
        "plt.xlabel('Epochs')\n",
        "plt.ylabel('Number of updates')\n",
        "plt.show()"
      ]
    },
    {
      "cell_type": "code",
      "source": [
        "# 다양한 Attribute를 이용해 훈련 해 보세요.\n",
        "# 1. sepal length in cm\n",
        "# 2. sepal width in cm\n",
        "# 3. petal length in cm\n",
        "# 4. petal width in cm\n",
        "# 5. class:\n",
        "# -- Iris Setosa\n",
        "# -- Iris Versicolour\n",
        "# -- Iris Virginica\n",
        "\n",
        "X = df.iloc[0:100, [2, 3]].values\n",
        "\n",
        "##################################################\n",
        "# Challenge: sepal length와 width를 이용해 분류가 가능한지 판단 해 보세요.\n",
        "\n",
        "# X = \n",
        "\n",
        "##################################################\n",
        "\n",
        "ppn = Perceptron(eta=0.1, n_iter=10, random_state=100)\n",
        "\n",
        "ppn.fit_with_visualization(X, y)"
      ],
      "metadata": {
        "id": "okG2d-HiuEz1"
      },
      "execution_count": null,
      "outputs": []
    },
    {
      "cell_type": "markdown",
      "source": [
        "Challenge: Perceptron의 Output Label Prediction이 아닌 Output Score를 이용해 업데이트 하도록 수정 해 보세요. (Hint: Use net_input function)"
      ],
      "metadata": {
        "id": "ktDrRKUSzpZj"
      }
    },
    {
      "cell_type": "code",
      "source": [
        "import numpy as np\n",
        "\n",
        "\n",
        "class Perceptron2(object):\n",
        "    \"\"\"퍼셉트론 분류기\n",
        "\n",
        "    매개변수\n",
        "    ------------\n",
        "    eta : float\n",
        "      학습률 (0.0과 1.0 사이)\n",
        "    n_iter : int\n",
        "      훈련 데이터셋 반복 횟수\n",
        "    random_state : int\n",
        "      가중치 무작위 초기화를 위한 난수 생성기 시드\n",
        "\n",
        "    속성\n",
        "    -----------\n",
        "    w_ : 1d-array\n",
        "      학습된 가중치\n",
        "    errors_ : list\n",
        "      에포크마다 누적된 분류 오류\n",
        "\n",
        "    \"\"\"\n",
        "    def __init__(self, eta=0.01, n_iter=50, random_state=1):\n",
        "        self.eta = eta\n",
        "        self.n_iter = n_iter\n",
        "        self.random_state = random_state\n",
        "\n",
        "    def fit_with_visualization(self, X, y, visualize=True):\n",
        "        \"\"\"훈련 데이터 학습\n",
        "\n",
        "        매개변수\n",
        "        ----------\n",
        "        X : array-like, shape = [n_samples, n_features]\n",
        "          n_samples개의 샘플과 n_features개의 특성으로 이루어진 훈련 데이터\n",
        "        y : array-like, shape = [n_samples]\n",
        "          타깃값\n",
        "\n",
        "        반환값\n",
        "        -------\n",
        "        self : object\n",
        "\n",
        "        \"\"\"\n",
        "        rgen = np.random.RandomState(self.random_state)\n",
        "        self.w_ = rgen.normal(loc=0.0, scale=0.01, size=1 + X.shape[1])\n",
        "        self.errors_ = []\n",
        "\n",
        "        for iter in range(self.n_iter):\n",
        "            errors = 0\n",
        "            for xi, target in zip(X, y):\n",
        "\n",
        "                ##################################################\n",
        "                # Perceptron의 Output Label Prediction이 아닌 Output Score를\n",
        "                # 이용해 업데이트 하도록 수정 해 보세요.\n",
        "                # (Hint: Use net_input function)\n",
        "\n",
        "                update = \n",
        "                self.w_[1:] += \n",
        "                self.w_[0] += \n",
        "\n",
        "                ##################################################\n",
        "\n",
        "                errors += int(update != 0.0)\n",
        "            self.errors_.append(errors)\n",
        "\n",
        "            if visualize:\n",
        "                plt.clf()\n",
        "                plt.cla()\n",
        "                plot_decision_regions(X, y, classifier=self)\n",
        "                plt.title('Adaline - Gradient Descent (Iter : {})'.format(iter))\n",
        "                plt.xlabel('sepal length [standardized]')\n",
        "                plt.ylabel('petal length [standardized]')\n",
        "                plt.legend(loc='upper left')\n",
        "                plt.tight_layout()\n",
        "                plt.show()\n",
        "\n",
        "        return self\n",
        "\n",
        "    def net_input(self, X):\n",
        "        \"\"\"입력 계산\"\"\"\n",
        "        return np.dot(X, self.w_[1:]) + self.w_[0]\n",
        "\n",
        "    def predict(self, X):\n",
        "        \"\"\"단위 계단 함수를 사용하여 클래스 레이블을 반환합니다\"\"\"\n",
        "        return np.where(self.net_input(X) >= 0.0, 1, -1)"
      ],
      "metadata": {
        "id": "re_lgsCaznZE"
      },
      "execution_count": null,
      "outputs": []
    },
    {
      "cell_type": "code",
      "source": [
        "X = df.iloc[0:100, [0, 2]].values\n",
        "ppn2 = Perceptron2(eta=0.0001, n_iter=20, random_state=100)\n",
        "\n",
        "ppn2.fit_with_visualization(X, y)"
      ],
      "metadata": {
        "id": "hTR52ru_0SFo"
      },
      "execution_count": null,
      "outputs": []
    }
  ],
  "metadata": {
    "anaconda-cloud": {},
    "colab": {
      "provenance": []
    },
    "kernelspec": {
      "display_name": "Python 3",
      "language": "python",
      "name": "python3"
    },
    "language_info": {
      "codemirror_mode": {
        "name": "ipython",
        "version": 3
      },
      "file_extension": ".py",
      "mimetype": "text/x-python",
      "name": "python",
      "nbconvert_exporter": "python",
      "pygments_lexer": "ipython3",
      "version": "3.7.3"
    }
  },
  "nbformat": 4,
  "nbformat_minor": 0
}