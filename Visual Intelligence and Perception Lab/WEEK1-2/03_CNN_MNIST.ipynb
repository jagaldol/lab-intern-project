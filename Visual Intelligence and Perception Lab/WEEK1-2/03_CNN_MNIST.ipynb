{
  "cells": [
    {
      "cell_type": "markdown",
      "metadata": {
        "id": "bmTf8Nr0ifCU"
      },
      "source": [
        "Code Reference: Python Machine Learning: Machine Learning and Deep Learning with Python, scikit-learn, and TensorFlow 2, 3rd Edition"
      ]
    },
    {
      "cell_type": "markdown",
      "metadata": {
        "id": "urDF4hh_ifCV"
      },
      "source": [
        "# Classifying Images with Deep Convolutional Neural Networks (Part 1/2)"
      ]
    },
    {
      "cell_type": "code",
      "execution_count": null,
      "metadata": {
        "id": "177002meifCW"
      },
      "outputs": [],
      "source": [
        "from IPython.display import Image"
      ]
    },
    {
      "cell_type": "code",
      "execution_count": null,
      "metadata": {
        "id": "kLmHMacdifCY"
      },
      "outputs": [],
      "source": [
        "import tensorflow as tf\n",
        "import numpy as np"
      ]
    },
    {
      "cell_type": "code",
      "execution_count": null,
      "metadata": {
        "id": "U2_UgtcxvuJj"
      },
      "outputs": [],
      "source": [
        "# 코랩에서 실행할 경우 이미지를 먼저 다운로드합니다\n",
        "!wget https://git.io/JL5Ob -O example-image.png\n",
        "!wget https://git.io/JL5Op -O example-image-gray.png"
      ]
    },
    {
      "cell_type": "code",
      "execution_count": null,
      "metadata": {
        "id": "2lQymxAJifCb"
      },
      "outputs": [],
      "source": [
        "img_raw = tf.io.read_file('example-image.png')\n",
        "img = tf.image.decode_image(img_raw)\n",
        "print('이미지 크기:', img.shape)\n",
        "print('채널 개수:', img.shape[2])\n",
        "print('이미지 데이터 타입:', img.dtype)\n",
        "print(img[100:102, 100:102, :])"
      ]
    },
    {
      "cell_type": "code",
      "execution_count": null,
      "metadata": {
        "id": "ZyCzEMJOifCd"
      },
      "outputs": [],
      "source": [
        "img_raw = tf.io.read_file('example-image-gray.png')\n",
        "img = tf.image.decode_image(img_raw)\n",
        "tf.print('랭크:', tf.rank(img))\n",
        "tf.print('크기:', img.shape)"
      ]
    },
    {
      "cell_type": "markdown",
      "metadata": {
        "id": "EcQnpguXifCf"
      },
      "source": [
        "## Implementing a deep convolutional neural network using TensorFlow\n",
        "\n",
        "### The multilayer CNN architecture"
      ]
    },
    {
      "cell_type": "markdown",
      "metadata": {
        "id": "klgI_t62ifCf"
      },
      "source": [
        "### Loading and preprocessing the data"
      ]
    },
    {
      "cell_type": "code",
      "execution_count": null,
      "metadata": {
        "id": "qGT2_kbKifCf"
      },
      "outputs": [],
      "source": [
        "import tensorflow_datasets as tfds\n",
        "import pandas as pd\n",
        "\n",
        "import matplotlib.pyplot as plt"
      ]
    },
    {
      "cell_type": "code",
      "execution_count": null,
      "metadata": {
        "id": "csMbYS6PifCf"
      },
      "outputs": [],
      "source": [
        "## MNIST 데이터셋\n",
        "mnist_bldr = tfds.builder('mnist')\n",
        "mnist_bldr.download_and_prepare()\n",
        "datasets = mnist_bldr.as_dataset(shuffle_files=False)\n",
        "print(datasets.keys())\n",
        "mnist_train_orig, mnist_test_orig = datasets['train'], datasets['test']"
      ]
    },
    {
      "cell_type": "code",
      "execution_count": null,
      "metadata": {
        "id": "B0b0Q15oifCg"
      },
      "outputs": [],
      "source": [
        "BUFFER_SIZE = 10000\n",
        "BATCH_SIZE = 256\n",
        "NUM_EPOCHS = 20"
      ]
    },
    {
      "cell_type": "code",
      "execution_count": null,
      "metadata": {
        "id": "PnBbEngHifCg"
      },
      "outputs": [],
      "source": [
        "mnist_train = mnist_train_orig.map(\n",
        "    lambda item: (tf.cast(item['image'], tf.float32)/255.0, \n",
        "                  tf.cast(item['label'], tf.int32)))\n",
        "\n",
        "mnist_test = mnist_test_orig.map(\n",
        "    lambda item: (tf.cast(item['image'], tf.float32)/255.0, \n",
        "                  tf.cast(item['label'], tf.int32)))\n",
        "\n",
        "tf.random.set_seed(1)\n",
        "\n",
        "mnist_train = mnist_train.shuffle(buffer_size=BUFFER_SIZE,\n",
        "                                  reshuffle_each_iteration=False)\n",
        "\n",
        "mnist_valid = mnist_train.take(10000).batch(BATCH_SIZE)\n",
        "mnist_train = mnist_train.skip(10000).batch(BATCH_SIZE)"
      ]
    },
    {
      "cell_type": "markdown",
      "metadata": {
        "id": "HIa1GMPZifCg"
      },
      "source": [
        "### Implementing a CNN using the TensorFlow Keras API\n",
        "\n",
        "#### Configuring CNN layers in Keras\n",
        "\n",
        " * **Conv2D:** `tf.keras.layers.Conv2D`\n",
        "   * `filters`\n",
        "   * `kernel_size`\n",
        "   * `strides`\n",
        "   * `padding`\n",
        "   \n",
        "   \n",
        " * **MaxPool2D:** `tf.keras.layers.MaxPool2D`\n",
        "   * `pool_size`\n",
        "   * `strides`\n",
        "   * `padding`\n",
        "   \n",
        "   \n",
        " * **Dropout** `tf.keras.layers.Dropout2D`\n",
        "   * `rate`"
      ]
    },
    {
      "cell_type": "markdown",
      "metadata": {
        "id": "Dg1drzu5ifCg"
      },
      "source": [
        "#### Constructing a CNN in Keras"
      ]
    },
    {
      "cell_type": "code",
      "execution_count": null,
      "metadata": {
        "id": "oZnaVWxQifCg"
      },
      "outputs": [],
      "source": [
        "model = tf.keras.Sequential()\n",
        "\n",
        "######################################################################\n",
        "# TODO: LeNet 구조를 참고하여 모델을 완성 해 보세요.\n",
        "# Dense(Linear) Layer는 이후 따로 추가되므로, CNN 부분만 추가 필요\n",
        "# Hint: tf.keras.layers.Conv2D / tf.keras.layers.MaxPool2D 를 사용\n",
        "\n",
        "\n",
        "model.add\n",
        "\n",
        "model.add\n",
        "    \n",
        "model.add\n",
        "\n",
        "model.add\n",
        "\n",
        "\n",
        "######################################################################"
      ]
    },
    {
      "cell_type": "code",
      "execution_count": null,
      "metadata": {
        "id": "v5b9cESoifCg"
      },
      "outputs": [],
      "source": [
        "model.compute_output_shape(input_shape=(16, 28, 28, 1))"
      ]
    },
    {
      "cell_type": "code",
      "execution_count": null,
      "metadata": {
        "id": "CinCB6uKifCg"
      },
      "outputs": [],
      "source": [
        "model.add(tf.keras.layers.Flatten())\n",
        "    \n",
        "model.compute_output_shape(input_shape=(16, 28, 28, 1))"
      ]
    },
    {
      "cell_type": "code",
      "execution_count": null,
      "metadata": {
        "id": "9zQEJSKTifCh"
      },
      "outputs": [],
      "source": [
        "# CNN 이후 Dense Layer 추가\n",
        "\n",
        "model.add(tf.keras.layers.Dense(\n",
        "    units=1024, name='fc_1', \n",
        "    activation='relu'))\n",
        "\n",
        "model.add(tf.keras.layers.Dropout(\n",
        "    rate=0.5))\n",
        "    \n",
        "model.add(tf.keras.layers.Dense(\n",
        "    units=10, name='fc_2',\n",
        "    activation='softmax'))"
      ]
    },
    {
      "cell_type": "code",
      "execution_count": null,
      "metadata": {
        "id": "xd3wAxU2ifCh"
      },
      "outputs": [],
      "source": [
        "tf.random.set_seed(1)\n",
        "model.build(input_shape=(None, 28, 28, 1))\n",
        "\n",
        "model.compute_output_shape(input_shape=(16, 28, 28, 1))"
      ]
    },
    {
      "cell_type": "code",
      "execution_count": null,
      "metadata": {
        "id": "sKsAwaKtifCh"
      },
      "outputs": [],
      "source": [
        "model.summary()"
      ]
    },
    {
      "cell_type": "code",
      "execution_count": null,
      "metadata": {
        "id": "9-yPq6g9ifCh"
      },
      "outputs": [],
      "source": [
        "model.compile(optimizer=tf.keras.optimizers.Adam(),\n",
        "              loss=tf.keras.losses.SparseCategoricalCrossentropy(),\n",
        "              metrics=['accuracy']) # same as `tf.keras.metrics.SparseCategoricalAccuracy(name='accuracy')`\n",
        "\n",
        "history = model.fit(mnist_train, epochs=NUM_EPOCHS, \n",
        "                    validation_data=mnist_valid, \n",
        "                    shuffle=True)"
      ]
    },
    {
      "cell_type": "code",
      "execution_count": null,
      "metadata": {
        "id": "a06czk7ZifCh"
      },
      "outputs": [],
      "source": [
        "hist = history.history\n",
        "x_arr = np.arange(len(hist['loss'])) + 1\n",
        "\n",
        "fig = plt.figure(figsize=(12, 4))\n",
        "ax = fig.add_subplot(1, 2, 1)\n",
        "ax.plot(x_arr, hist['loss'], '-o', label='Train loss')\n",
        "ax.plot(x_arr, hist['val_loss'], '--<', label='Validation loss')\n",
        "ax.set_xlabel('Epoch', size=15)\n",
        "ax.set_ylabel('Loss', size=15)\n",
        "ax.grid()\n",
        "ax.legend(fontsize=15)\n",
        "ax = fig.add_subplot(1, 2, 2)\n",
        "ax.plot(x_arr, hist['accuracy'], '-o', label='Train acc.')\n",
        "ax.plot(x_arr, hist['val_accuracy'], '--<', label='Validation acc.')\n",
        "ax.legend(fontsize=15)\n",
        "ax.set_xlabel('Epoch', size=15)\n",
        "ax.set_ylabel('Accuracy', size=15)\n",
        "ax.grid()\n",
        "\n",
        "plt.show()"
      ]
    },
    {
      "cell_type": "code",
      "execution_count": null,
      "metadata": {
        "id": "d3dx-LhlifCi"
      },
      "outputs": [],
      "source": [
        "test_results = model.evaluate(mnist_test.batch(20))\n",
        "print('\\n테스트 정확도 {:.2f}%'.format(test_results[1]*100))"
      ]
    },
    {
      "cell_type": "code",
      "execution_count": null,
      "metadata": {
        "id": "T7kb_hRaifCi",
        "scrolled": true
      },
      "outputs": [],
      "source": [
        "batch_test = next(iter(mnist_test.batch(12)))\n",
        "\n",
        "preds = model(batch_test[0])\n",
        "\n",
        "tf.print(preds.shape)\n",
        "preds = tf.argmax(preds, axis=1)\n",
        "print(preds)\n",
        "\n",
        "fig = plt.figure(figsize=(12, 4))\n",
        "for i in range(12):\n",
        "    ax = fig.add_subplot(2, 6, i+1)\n",
        "    ax.set_xticks([]); ax.set_yticks([])\n",
        "    img = batch_test[0][i, :, :, 0]\n",
        "    ax.imshow(img, cmap='gray_r')\n",
        "    ax.text(0.9, 0.1, '{}'.format(preds[i]), \n",
        "            size=15, color='blue',\n",
        "            horizontalalignment='center',\n",
        "            verticalalignment='center', \n",
        "            transform=ax.transAxes)\n",
        "    \n",
        "plt.show()"
      ]
    },
    {
      "cell_type": "code",
      "execution_count": null,
      "metadata": {
        "id": "5sLLwpHLifCi"
      },
      "outputs": [],
      "source": [
        "# Training 완료 된 모델을 저장\n",
        "\n",
        "import os\n",
        "\n",
        "if not os.path.exists('models'):\n",
        "    os.mkdir('models')\n",
        "\n",
        "\n",
        "model.save('models/mnist-cnn.h5')"
      ]
    },
    {
      "cell_type": "code",
      "source": [
        "# Loading from the saved ckeckpoint\n",
        "\n",
        "model_saved = tf.keras.models.clone_model(\n",
        "    model, input_tensors=None\n",
        ")"
      ],
      "metadata": {
        "id": "GIXO6f7sMEw3"
      },
      "execution_count": null,
      "outputs": []
    },
    {
      "cell_type": "code",
      "source": [
        "##################################################\n",
        "# TODO: 저장 된 Model을 불러오고, 성공적으로 불러와 졌는지 성능을 확인 해 보세요.\n",
        "\n",
        "model_saved.\n",
        "\n",
        "##################################################\n",
        "\n",
        "test_results2 = model_saved.evaluate(mnist_test.batch(20))\n",
        "print('\\n테스트 정확도 (Original) {:.2f}%'.format(test_results[1]*100))\n",
        "print('\\n테스트 정확도 (Loaded) {:.2f}%'.format(test_results2[1]*100))"
      ],
      "metadata": {
        "id": "GDOEMDNrMx6k"
      },
      "execution_count": null,
      "outputs": []
    },
    {
      "cell_type": "code",
      "source": [
        "model_new = tf.keras.Sequential()\n",
        "\n",
        "##################################################\n",
        "# TODO: 새로운 모델을 정의하고 훈련하여 성능을 비교 해 보세요.\n",
        "\n",
        "model_new.add\n",
        "\n",
        "##################################################\n",
        "    \n",
        "model_new.add(tf.keras.layers.Dense(\n",
        "    units=10, name='fc_2',\n",
        "    activation='softmax'))\n",
        "\n",
        "model_new.build(input_shape=(None, 28, 28, 1))"
      ],
      "metadata": {
        "id": "683TKO6BNmzR"
      },
      "execution_count": null,
      "outputs": []
    },
    {
      "cell_type": "code",
      "source": [
        "model_new.compile(optimizer=tf.keras.optimizers.Adam(),\n",
        "                  loss=tf.keras.losses.SparseCategoricalCrossentropy(),\n",
        "                  metrics=['accuracy']) # same as `tf.keras.metrics.SparseCategoricalAccuracy(name='accuracy')`\n",
        "\n",
        "history_new = model_new.fit(mnist_train, epochs=NUM_EPOCHS, \n",
        "                            validation_data=mnist_valid, \n",
        "                            shuffle=True)"
      ],
      "metadata": {
        "id": "qKUZOMo6NwLC"
      },
      "execution_count": null,
      "outputs": []
    },
    {
      "cell_type": "code",
      "source": [
        "test_results_new = model_new.evaluate(mnist_test.batch(20))\n",
        "print('\\n테스트 정확도 (Original) {:.2f}%'.format(test_results[1]*100))\n",
        "print('\\n테스트 정확도 (New) {:.2f}%'.format(test_results_new[1]*100))"
      ],
      "metadata": {
        "id": "eFm5bQKvOCne"
      },
      "execution_count": null,
      "outputs": []
    },
    {
      "cell_type": "code",
      "source": [
        "hist_new = history_new.history\n",
        "x_arr = np.arange(len(hist_new['loss'])) + 1\n",
        "\n",
        "fig = plt.figure(figsize=(12, 4))\n",
        "ax = fig.add_subplot(1, 2, 1)\n",
        "ax.plot(x_arr, hist['loss'], '-o', label='Train loss (Original)')\n",
        "ax.plot(x_arr, hist['val_loss'], '--<', label='Validation loss (Original)')\n",
        "ax.plot(x_arr, hist_new['loss'], '-o', label='Train loss (New)')\n",
        "ax.plot(x_arr, hist_new['val_loss'], '--<', label='Validation loss (New)')\n",
        "ax.set_xlabel('Epoch', size=15)\n",
        "ax.set_ylabel('Loss', size=15)\n",
        "ax.grid()\n",
        "ax.legend(fontsize=15)\n",
        "ax = fig.add_subplot(1, 2, 2)\n",
        "ax.plot(x_arr, hist['accuracy'], '-o', label='Train acc. (Original)')\n",
        "ax.plot(x_arr, hist['val_accuracy'], '--<', label='Validation acc. (Original)')\n",
        "ax.plot(x_arr, hist_new['accuracy'], '-o', label='Train acc. (New)')\n",
        "ax.plot(x_arr, hist_new['val_accuracy'], '--<', label='Validation acc. (New)')\n",
        "ax.legend(fontsize=15)\n",
        "ax.set_xlabel('Epoch', size=15)\n",
        "ax.set_ylabel('Accuracy', size=15)\n",
        "ax.grid()\n",
        "\n",
        "plt.show()"
      ],
      "metadata": {
        "id": "FWlyHVWJOWTz"
      },
      "execution_count": null,
      "outputs": []
    }
  ],
  "metadata": {
    "accelerator": "GPU",
    "colab": {
      "provenance": []
    },
    "kernelspec": {
      "display_name": "Python 3",
      "language": "python",
      "name": "python3"
    },
    "language_info": {
      "codemirror_mode": {
        "name": "ipython",
        "version": 3
      },
      "file_extension": ".py",
      "mimetype": "text/x-python",
      "name": "python",
      "nbconvert_exporter": "python",
      "pygments_lexer": "ipython3",
      "version": "3.7.3"
    }
  },
  "nbformat": 4,
  "nbformat_minor": 0
}