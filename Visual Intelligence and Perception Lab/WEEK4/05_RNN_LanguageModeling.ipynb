{
  "cells": [
    {
      "cell_type": "markdown",
      "metadata": {
        "id": "mrDzC9FUyWJk"
      },
      "source": [
        "#### Code Reference: Python Machine Learning, 3rd Ed."
      ]
    },
    {
      "cell_type": "markdown",
      "metadata": {
        "id": "90ZMzS7wyWJm"
      },
      "source": [
        "# Modeling Sequential Data Using Recurrent Neural Networks (part 2/2)"
      ]
    },
    {
      "cell_type": "code",
      "execution_count": 1,
      "metadata": {
        "execution": {
          "iopub.execute_input": "2021-01-01T08:20:46.163997Z",
          "iopub.status.busy": "2021-01-01T08:20:46.163019Z",
          "iopub.status.idle": "2021-01-01T08:20:46.165178Z",
          "shell.execute_reply": "2021-01-01T08:20:46.165803Z"
        },
        "id": "RLnk-L-ZyWJn"
      },
      "outputs": [],
      "source": [
        "from IPython.display import Image"
      ]
    },
    {
      "cell_type": "markdown",
      "metadata": {
        "id": "xrqTH2wvyWJo"
      },
      "source": [
        "### Preprocessing the dataset"
      ]
    },
    {
      "cell_type": "code",
      "execution_count": 2,
      "metadata": {
        "execution": {
          "iopub.execute_input": "2021-01-01T08:20:46.213066Z",
          "iopub.status.busy": "2021-01-01T08:20:46.212126Z",
          "iopub.status.idle": "2021-01-01T08:20:50.103519Z",
          "shell.execute_reply": "2021-01-01T08:20:50.102717Z"
        },
        "id": "GtxzLN-RyWJo",
        "colab": {
          "base_uri": "https://localhost:8080/"
        },
        "outputId": "78b16dbf-5264-4c61-d2d0-337a0b1c1bba"
      },
      "outputs": [
        {
          "output_type": "stream",
          "name": "stdout",
          "text": [
            "--2023-05-08 11:13:51--  https://raw.githubusercontent.com/rickiepark/python-machine-learning-book-3rd-edition/master/ch16/1268-0.txt\n",
            "Resolving raw.githubusercontent.com (raw.githubusercontent.com)... 185.199.109.133, 185.199.108.133, 185.199.111.133, ...\n",
            "Connecting to raw.githubusercontent.com (raw.githubusercontent.com)|185.199.109.133|:443... connected.\n",
            "HTTP request sent, awaiting response... 200 OK\n",
            "Length: 1171600 (1.1M) [text/plain]\n",
            "Saving to: ‘1268-0.txt’\n",
            "\n",
            "1268-0.txt          100%[===================>]   1.12M  --.-KB/s    in 0.07s   \n",
            "\n",
            "2023-05-08 11:13:52 (15.7 MB/s) - ‘1268-0.txt’ saved [1171600/1171600]\n",
            "\n"
          ]
        }
      ],
      "source": [
        "# 코랩에서 실행할 경우 다음 코드를 실행해 주세요.\n",
        "!wget https://raw.githubusercontent.com/rickiepark/python-machine-learning-book-3rd-edition/master/ch16/1268-0.txt"
      ]
    },
    {
      "cell_type": "code",
      "execution_count": 3,
      "metadata": {
        "execution": {
          "iopub.execute_input": "2021-01-01T08:20:50.111825Z",
          "iopub.status.busy": "2021-01-01T08:20:50.110901Z",
          "iopub.status.idle": "2021-01-01T08:20:50.138395Z",
          "shell.execute_reply": "2021-01-01T08:20:50.137468Z"
        },
        "id": "mRwzImO7yWJo",
        "colab": {
          "base_uri": "https://localhost:8080/"
        },
        "outputId": "7e7089a1-9068-456e-8645-c2560f020e45"
      },
      "outputs": [
        {
          "output_type": "stream",
          "name": "stdout",
          "text": [
            "567 1112917\n",
            "전체 길이: 1112350\n",
            "고유한 문자: 80\n"
          ]
        }
      ],
      "source": [
        "import numpy as np\n",
        "\n",
        "\n",
        "## 텍스트 읽고 전처리하기\n",
        "with open('1268-0.txt', 'r', encoding='UTF8') as fp:\n",
        "    text=fp.read()\n",
        "    \n",
        "start_indx = text.find('THE MYSTERIOUS ISLAND')\n",
        "end_indx = text.find('End of the Project Gutenberg')\n",
        "print(start_indx, end_indx)\n",
        "\n",
        "text = text[start_indx:end_indx]\n",
        "char_set = set(text)\n",
        "print('전체 길이:', len(text))\n",
        "print('고유한 문자:', len(char_set))"
      ]
    },
    {
      "cell_type": "code",
      "execution_count": 4,
      "metadata": {
        "execution": {
          "iopub.execute_input": "2021-01-01T08:20:50.198178Z",
          "iopub.status.busy": "2021-01-01T08:20:50.167394Z",
          "iopub.status.idle": "2021-01-01T08:20:50.298755Z",
          "shell.execute_reply": "2021-01-01T08:20:50.297847Z"
        },
        "id": "X3zvJimcyWJp",
        "colab": {
          "base_uri": "https://localhost:8080/"
        },
        "outputId": "cb764919-65b7-4660-a116-fc01a3aedfe9"
      },
      "outputs": [
        {
          "output_type": "stream",
          "name": "stdout",
          "text": [
            "인코딩된 텍스트 크기:  (1112350,)\n",
            "THE MYSTERIOUS       == 인코딩 ==>  [44 32 29  1 37 48 43 44 29 42 33 39 45 43  1]\n",
            "[33 43 36 25 38 28]  == 디코딩 ==>  ISLAND\n"
          ]
        }
      ],
      "source": [
        "chars_sorted = sorted(char_set)\n",
        "char2int = {ch:i for i,ch in enumerate(chars_sorted)}\n",
        "char_array = np.array(chars_sorted)\n",
        "\n",
        "text_encoded = np.array(\n",
        "    [char2int[ch] for ch in text],\n",
        "    dtype=np.int32)\n",
        "\n",
        "print('인코딩된 텍스트 크기: ', text_encoded.shape)\n",
        "\n",
        "print(text[:15], '     == 인코딩 ==> ', text_encoded[:15])\n",
        "print(text_encoded[15:21], ' == 디코딩 ==> ', ''.join(char_array[text_encoded[15:21]]))"
      ]
    },
    {
      "cell_type": "code",
      "execution_count": 5,
      "metadata": {
        "execution": {
          "iopub.execute_input": "2021-01-01T08:20:50.316611Z",
          "iopub.status.busy": "2021-01-01T08:20:50.315609Z",
          "iopub.status.idle": "2021-01-01T08:20:52.091027Z",
          "shell.execute_reply": "2021-01-01T08:20:52.091768Z"
        },
        "id": "_E5CojZ5yWJp",
        "colab": {
          "base_uri": "https://localhost:8080/"
        },
        "outputId": "4accd6f8-bc0a-4ea4-ec57-e2dd51121065"
      },
      "outputs": [
        {
          "output_type": "stream",
          "name": "stdout",
          "text": [
            "44 -> T\n",
            "32 -> H\n",
            "29 -> E\n",
            "1 ->  \n",
            "37 -> M\n"
          ]
        }
      ],
      "source": [
        "import tensorflow as tf\n",
        "\n",
        "\n",
        "ds_text_encoded = tf.data.Dataset.from_tensor_slices(text_encoded)\n",
        "\n",
        "for ex in ds_text_encoded.take(5):\n",
        "    print('{} -> {}'.format(ex.numpy(), char_array[ex.numpy()]))"
      ]
    },
    {
      "cell_type": "code",
      "execution_count": 6,
      "metadata": {
        "execution": {
          "iopub.execute_input": "2021-01-01T08:20:52.100011Z",
          "iopub.status.busy": "2021-01-01T08:20:52.099319Z",
          "iopub.status.idle": "2021-01-01T08:20:52.107438Z",
          "shell.execute_reply": "2021-01-01T08:20:52.108132Z"
        },
        "id": "Ilw6v7iKyWJq",
        "colab": {
          "base_uri": "https://localhost:8080/"
        },
        "outputId": "1088aba7-ae4a-4201-d49c-3f89798cf9ab"
      },
      "outputs": [
        {
          "output_type": "stream",
          "name": "stdout",
          "text": [
            "[44 32 29  1 37 48 43 44 29 42 33 39 45 43  1 33 43 36 25 38 28  1  6  6\n",
            "  6  0  0  0  0  0 40 67 64 53 70 52 54 53  1 51]  ->  74\n",
            "'THE MYSTERIOUS ISLAND ***\\n\\n\\n\\n\\nProduced b'  ->  'y'\n"
          ]
        }
      ],
      "source": [
        "seq_length = 40\n",
        "chunk_size = seq_length + 1\n",
        "\n",
        "ds_chunks = ds_text_encoded.batch(chunk_size, drop_remainder=True)\n",
        "\n",
        "## inspection:\n",
        "for seq in ds_chunks.take(1):\n",
        "    input_seq = seq[:seq_length].numpy()\n",
        "    target = seq[seq_length].numpy()\n",
        "    print(input_seq, ' -> ', target)\n",
        "    print(repr(''.join(char_array[input_seq])), \n",
        "          ' -> ', repr(''.join(char_array[target])))"
      ]
    },
    {
      "cell_type": "code",
      "execution_count": 7,
      "metadata": {
        "execution": {
          "iopub.execute_input": "2021-01-01T08:20:52.131350Z",
          "iopub.status.busy": "2021-01-01T08:20:52.130702Z",
          "iopub.status.idle": "2021-01-01T08:20:52.199641Z",
          "shell.execute_reply": "2021-01-01T08:20:52.198873Z"
        },
        "id": "oDIGchMbyWJq",
        "colab": {
          "base_uri": "https://localhost:8080/"
        },
        "outputId": "d72e03be-dbeb-4f3f-f530-af15f4f81368"
      },
      "outputs": [
        {
          "output_type": "stream",
          "name": "stdout",
          "text": [
            "입력 (x): 'THE MYSTERIOUS ISLAND ***\\n\\n\\n\\n\\nProduced b'\n",
            "타깃 (y): 'HE MYSTERIOUS ISLAND ***\\n\\n\\n\\n\\nProduced by'\n",
            "\n",
            "입력 (x): ' Anthony Matonak, and Trevor Carlson\\n\\n\\n\\n'\n",
            "타깃 (y): 'Anthony Matonak, and Trevor Carlson\\n\\n\\n\\n\\n'\n",
            "\n"
          ]
        }
      ],
      "source": [
        "## x & y를 나누기 위한 함수를 정의합니다\n",
        "def split_input_target(chunk):\n",
        "    input_seq = chunk[:-1]\n",
        "    target_seq = chunk[1:]\n",
        "    return input_seq, target_seq\n",
        "\n",
        "ds_sequences = ds_chunks.map(split_input_target)\n",
        "\n",
        "## 확인:\n",
        "for example in ds_sequences.take(2):\n",
        "    print('입력 (x):', repr(''.join(char_array[example[0].numpy()])))\n",
        "    print('타깃 (y):', repr(''.join(char_array[example[1].numpy()])))\n",
        "    print()"
      ]
    },
    {
      "cell_type": "code",
      "execution_count": 8,
      "metadata": {
        "execution": {
          "iopub.execute_input": "2021-01-01T08:20:52.206427Z",
          "iopub.status.busy": "2021-01-01T08:20:52.205493Z",
          "iopub.status.idle": "2021-01-01T08:20:52.214632Z",
          "shell.execute_reply": "2021-01-01T08:20:52.214055Z"
        },
        "id": "EwXM1x7MyWJr",
        "colab": {
          "base_uri": "https://localhost:8080/"
        },
        "outputId": "16386523-3ba5-4143-c332-d5f3650c41f5"
      },
      "outputs": [
        {
          "output_type": "execute_result",
          "data": {
            "text/plain": [
              "<_BatchDataset element_spec=(TensorSpec(shape=(None, 40), dtype=tf.int32, name=None), TensorSpec(shape=(None, 40), dtype=tf.int32, name=None))>"
            ]
          },
          "metadata": {},
          "execution_count": 8
        }
      ],
      "source": [
        "# 배치 크기\n",
        "BATCH_SIZE = 64\n",
        "BUFFER_SIZE = 10000\n",
        "\n",
        "tf.random.set_seed(1)\n",
        "ds = ds_sequences.shuffle(BUFFER_SIZE).batch(BATCH_SIZE)# drop_remainder=True)\n",
        "\n",
        "ds"
      ]
    },
    {
      "cell_type": "markdown",
      "metadata": {
        "id": "ALd_KVXbyWJr"
      },
      "source": [
        "### Building a character-level RNN model"
      ]
    },
    {
      "cell_type": "code",
      "execution_count": 9,
      "metadata": {
        "execution": {
          "iopub.execute_input": "2021-01-01T08:20:52.222512Z",
          "iopub.status.busy": "2021-01-01T08:20:52.221844Z",
          "iopub.status.idle": "2021-01-01T08:20:52.507739Z",
          "shell.execute_reply": "2021-01-01T08:20:52.508469Z"
        },
        "id": "2DQqLCqAyWJr",
        "colab": {
          "base_uri": "https://localhost:8080/"
        },
        "outputId": "7a5b0cf7-4f0b-490f-b58a-8664242fc633"
      },
      "outputs": [
        {
          "output_type": "stream",
          "name": "stdout",
          "text": [
            "Model: \"sequential\"\n",
            "_________________________________________________________________\n",
            " Layer (type)                Output Shape              Param #   \n",
            "=================================================================\n",
            " embedding (Embedding)       (None, None, 256)         20480     \n",
            "                                                                 \n",
            " lstm (LSTM)                 (None, None, 512)         1574912   \n",
            "                                                                 \n",
            " dense (Dense)               (None, None, 80)          41040     \n",
            "                                                                 \n",
            "=================================================================\n",
            "Total params: 1,636,432\n",
            "Trainable params: 1,636,432\n",
            "Non-trainable params: 0\n",
            "_________________________________________________________________\n"
          ]
        }
      ],
      "source": [
        "def build_model(vocab_size, embedding_dim, rnn_units):\n",
        "    model = tf.keras.Sequential([\n",
        "        tf.keras.layers.Embedding(vocab_size, embedding_dim),\n",
        "        tf.keras.layers.LSTM(\n",
        "            rnn_units, return_sequences=True),\n",
        "        tf.keras.layers.Dense(vocab_size)\n",
        "    ])\n",
        "    return model\n",
        "\n",
        "\n",
        "charset_size = len(char_array)\n",
        "embedding_dim = 256\n",
        "rnn_units = 512\n",
        "\n",
        "tf.random.set_seed(1)\n",
        "\n",
        "model = build_model(\n",
        "    vocab_size = charset_size,\n",
        "    embedding_dim=embedding_dim,\n",
        "    rnn_units=rnn_units)\n",
        "\n",
        "model.summary()"
      ]
    },
    {
      "cell_type": "code",
      "execution_count": 10,
      "metadata": {
        "execution": {
          "iopub.execute_input": "2021-01-01T08:20:52.523264Z",
          "iopub.status.busy": "2021-01-01T08:20:52.522357Z",
          "iopub.status.idle": "2021-01-01T08:52:55.869819Z",
          "shell.execute_reply": "2021-01-01T08:52:55.870445Z"
        },
        "id": "6oDKVX0JyWJr",
        "colab": {
          "base_uri": "https://localhost:8080/"
        },
        "outputId": "631b3b83-493f-45be-c760-42eabd09af69"
      },
      "outputs": [
        {
          "output_type": "stream",
          "name": "stdout",
          "text": [
            "Epoch 1/20\n",
            "424/424 [==============================] - 23s 24ms/step - loss: 2.3276\n",
            "Epoch 2/20\n",
            "424/424 [==============================] - 8s 17ms/step - loss: 1.7392\n",
            "Epoch 3/20\n",
            "424/424 [==============================] - 6s 13ms/step - loss: 1.5369\n",
            "Epoch 4/20\n",
            "424/424 [==============================] - 6s 13ms/step - loss: 1.4208\n",
            "Epoch 5/20\n",
            "424/424 [==============================] - 6s 13ms/step - loss: 1.3476\n",
            "Epoch 6/20\n",
            "424/424 [==============================] - 8s 16ms/step - loss: 1.2963\n",
            "Epoch 7/20\n",
            "424/424 [==============================] - 7s 14ms/step - loss: 1.2570\n",
            "Epoch 8/20\n",
            "424/424 [==============================] - 9s 16ms/step - loss: 1.2254\n",
            "Epoch 9/20\n",
            "424/424 [==============================] - 8s 17ms/step - loss: 1.1998\n",
            "Epoch 10/20\n",
            "424/424 [==============================] - 7s 13ms/step - loss: 1.1768\n",
            "Epoch 11/20\n",
            "424/424 [==============================] - 7s 16ms/step - loss: 1.1563\n",
            "Epoch 12/20\n",
            "424/424 [==============================] - 6s 13ms/step - loss: 1.1376\n",
            "Epoch 13/20\n",
            "424/424 [==============================] - 8s 15ms/step - loss: 1.1200\n",
            "Epoch 14/20\n",
            "424/424 [==============================] - 6s 13ms/step - loss: 1.1034\n",
            "Epoch 15/20\n",
            "424/424 [==============================] - 6s 13ms/step - loss: 1.0877\n",
            "Epoch 16/20\n",
            "424/424 [==============================] - 8s 16ms/step - loss: 1.0728\n",
            "Epoch 17/20\n",
            "424/424 [==============================] - 7s 14ms/step - loss: 1.0577\n",
            "Epoch 18/20\n",
            "424/424 [==============================] - 6s 13ms/step - loss: 1.0435\n",
            "Epoch 19/20\n",
            "424/424 [==============================] - 8s 16ms/step - loss: 1.0290\n",
            "Epoch 20/20\n",
            "424/424 [==============================] - 7s 15ms/step - loss: 1.0154\n"
          ]
        },
        {
          "output_type": "execute_result",
          "data": {
            "text/plain": [
              "<keras.callbacks.History at 0x7efd83fc2d70>"
            ]
          },
          "metadata": {},
          "execution_count": 10
        }
      ],
      "source": [
        "model.compile(\n",
        "    optimizer='adam', \n",
        "    loss=tf.keras.losses.SparseCategoricalCrossentropy(\n",
        "        from_logits=True\n",
        "    ))\n",
        "\n",
        "model.fit(ds, epochs=20)"
      ]
    },
    {
      "cell_type": "markdown",
      "metadata": {
        "id": "HPxMUjzzyWJr"
      },
      "source": [
        "### Evaluation phase: generating new text passages"
      ]
    },
    {
      "cell_type": "code",
      "execution_count": 11,
      "metadata": {
        "execution": {
          "iopub.execute_input": "2021-01-01T08:52:55.887487Z",
          "iopub.status.busy": "2021-01-01T08:52:55.886806Z",
          "iopub.status.idle": "2021-01-01T08:52:55.892794Z",
          "shell.execute_reply": "2021-01-01T08:52:55.892440Z"
        },
        "id": "qJ8Wf-ofyWJs",
        "colab": {
          "base_uri": "https://localhost:8080/"
        },
        "outputId": "82f42c35-6567-4e14-8ad9-572ae7a999d6"
      },
      "outputs": [
        {
          "output_type": "stream",
          "name": "stdout",
          "text": [
            "확률: [0.33333334 0.33333334 0.33333334]\n",
            "array([[1, 2, 0, 1, 0, 1, 1, 2, 1, 1]])\n"
          ]
        }
      ],
      "source": [
        "tf.random.set_seed(1)\n",
        "\n",
        "logits = [[1.0, 1.0, 1.0]]\n",
        "print('확률:', tf.math.softmax(logits).numpy()[0])\n",
        "\n",
        "samples = tf.random.categorical(\n",
        "    logits=logits, num_samples=10)\n",
        "tf.print(samples.numpy())"
      ]
    },
    {
      "cell_type": "code",
      "execution_count": 12,
      "metadata": {
        "execution": {
          "iopub.execute_input": "2021-01-01T08:52:55.899437Z",
          "iopub.status.busy": "2021-01-01T08:52:55.898456Z",
          "iopub.status.idle": "2021-01-01T08:52:55.903367Z",
          "shell.execute_reply": "2021-01-01T08:52:55.904194Z"
        },
        "id": "PZd-fbXByWJs",
        "colab": {
          "base_uri": "https://localhost:8080/"
        },
        "outputId": "266bcf1b-312a-41df-d199-8489a1cfe099"
      },
      "outputs": [
        {
          "output_type": "stream",
          "name": "stdout",
          "text": [
            "확률: [0.10650698 0.10650698 0.78698605]\n",
            "array([[2, 2, 0, 2, 2, 2, 2, 2, 1, 2]])\n"
          ]
        }
      ],
      "source": [
        "tf.random.set_seed(1)\n",
        "\n",
        "logits = [[1.0, 1.0, 3.0]]\n",
        "print('확률:', tf.math.softmax(logits).numpy()[0])\n",
        "\n",
        "samples = tf.random.categorical(\n",
        "    logits=logits, num_samples=10)\n",
        "tf.print(samples.numpy())"
      ]
    },
    {
      "cell_type": "code",
      "execution_count": 13,
      "metadata": {
        "execution": {
          "iopub.execute_input": "2021-01-01T08:52:55.914798Z",
          "iopub.status.busy": "2021-01-01T08:52:55.914137Z",
          "iopub.status.idle": "2021-01-01T08:53:06.162148Z",
          "shell.execute_reply": "2021-01-01T08:53:06.162896Z"
        },
        "id": "R_b2-tLDyWJs",
        "colab": {
          "base_uri": "https://localhost:8080/"
        },
        "outputId": "62ea377d-882d-4114-c444-fa350ae3fcd8"
      },
      "outputs": [
        {
          "output_type": "stream",
          "name": "stdout",
          "text": [
            "The island was egglopily this killed him? They now at a ciffes. Than\n",
            "this wart of madmlost on the opening. The sea had been very project; the most impression here, were swenting to inaccess to eat the respect and toosphere.\n",
            "\n",
            "The heat they were soon delish by the perimilar or was performantably falling in the ground to look anxile, and broken\n",
            "of feelings which he was, that the bare had been decided with his companions, who mangered in any extremity of certain\n",
            "empty weighers and replowed that some situation\n"
          ]
        }
      ],
      "source": [
        "def sample(model, starting_str, \n",
        "           len_generated_text=500, \n",
        "           max_input_length=40,\n",
        "           scale_factor=1.0):\n",
        "    encoded_input = [char2int[s] for s in starting_str]\n",
        "    encoded_input = tf.reshape(encoded_input, (1, -1))\n",
        "\n",
        "    generated_str = starting_str\n",
        "\n",
        "    model.reset_states()\n",
        "    for i in range(len_generated_text):\n",
        "        logits = model(encoded_input)\n",
        "        logits = tf.squeeze(logits, 0)\n",
        "\n",
        "        scaled_logits = logits * scale_factor\n",
        "        new_char_indx = tf.random.categorical(\n",
        "            scaled_logits, num_samples=1)\n",
        "        \n",
        "        new_char_indx = tf.squeeze(new_char_indx)[-1].numpy()    \n",
        "\n",
        "        generated_str += str(char_array[new_char_indx])\n",
        "        \n",
        "        new_char_indx = tf.expand_dims([new_char_indx], 0)\n",
        "        encoded_input = tf.concat(\n",
        "            [encoded_input, new_char_indx],\n",
        "            axis=1)\n",
        "        encoded_input = encoded_input[:, -max_input_length:]\n",
        "\n",
        "    return generated_str\n",
        "\n",
        "tf.random.set_seed(1)\n",
        "print(sample(model, starting_str='The island'))"
      ]
    },
    {
      "cell_type": "markdown",
      "metadata": {
        "id": "Stm4dLH2yWJs"
      },
      "source": [
        "* **Predictability vs. randomness**"
      ]
    },
    {
      "cell_type": "code",
      "execution_count": 14,
      "metadata": {
        "execution": {
          "iopub.execute_input": "2021-01-01T08:53:06.171621Z",
          "iopub.status.busy": "2021-01-01T08:53:06.170721Z",
          "iopub.status.idle": "2021-01-01T08:53:06.175211Z",
          "shell.execute_reply": "2021-01-01T08:53:06.175546Z"
        },
        "id": "-UKHgrqTyWJs",
        "colab": {
          "base_uri": "https://localhost:8080/"
        },
        "outputId": "3d6e6553-7444-4d56-ce25-72bd56032ff8"
      },
      "outputs": [
        {
          "output_type": "stream",
          "name": "stdout",
          "text": [
            "스케일 조정 전의 확률:  [0.10650698 0.10650698 0.78698604]\n",
            "0.5배 조정 후 확률:   [0.21194156 0.21194156 0.57611688]\n",
            "0.1배 조정 후 확률:   [0.31042377 0.31042377 0.37915245]\n"
          ]
        }
      ],
      "source": [
        "logits = np.array([[1.0, 1.0, 3.0]])\n",
        "\n",
        "print('스케일 조정 전의 확률: ', tf.math.softmax(logits).numpy()[0])\n",
        "\n",
        "print('0.5배 조정 후 확률:  ', tf.math.softmax(0.5*logits).numpy()[0])\n",
        "\n",
        "print('0.1배 조정 후 확률:  ', tf.math.softmax(0.1*logits).numpy()[0])"
      ]
    },
    {
      "cell_type": "code",
      "execution_count": 15,
      "metadata": {
        "execution": {
          "iopub.execute_input": "2021-01-01T08:53:06.182417Z",
          "iopub.status.busy": "2021-01-01T08:53:06.182031Z",
          "iopub.status.idle": "2021-01-01T08:53:16.415192Z",
          "shell.execute_reply": "2021-01-01T08:53:16.415932Z"
        },
        "id": "ickgML_8yWJt",
        "colab": {
          "base_uri": "https://localhost:8080/"
        },
        "outputId": "29a1256d-cbce-4456-fb1e-972c18edd499"
      },
      "outputs": [
        {
          "output_type": "stream",
          "name": "stdout",
          "text": [
            "The island was explored the darkness was strewn with some from the neighborhood of the island was the position of the coast of the horizon. The sailor was stretched on\n",
            "the shore, and a large shore of the vessel was struck by the heat of the southern planks of the earth. The sailor was not already passed them as if he left his clothes, which was seen somewhat\n",
            "regard near the shore, the colonists had not been able to find out the explosion, which was explored the summit of the water to the forest, and Ayrto\n"
          ]
        }
      ],
      "source": [
        "tf.random.set_seed(1)\n",
        "print(sample(model, starting_str='The island', \n",
        "             scale_factor=2.0))"
      ]
    },
    {
      "cell_type": "code",
      "execution_count": 16,
      "metadata": {
        "execution": {
          "iopub.execute_input": "2021-01-01T08:53:16.424579Z",
          "iopub.status.busy": "2021-01-01T08:53:16.424183Z",
          "iopub.status.idle": "2021-01-01T08:53:26.644678Z",
          "shell.execute_reply": "2021-01-01T08:53:26.643763Z"
        },
        "id": "UF4sqqpcyWJt",
        "colab": {
          "base_uri": "https://localhost:8080/"
        },
        "outputId": "362c2022-0595-4a18-94b3-e3c4f469809f"
      },
      "outputs": [
        {
          "output_type": "stream",
          "name": "stdout",
          "text": [
            "The island had egblyin houl. No! nwelvel? ” would passed\n",
            "if Chrotep them, I\n",
            "rejoin,--”\n",
            "\n",
            "“My but dot?” as favocears to enobes\n",
            "abodabh, pa;\n",
            "unfortunates yourse heart; Ayrton, however,” added Hehardion, proloeved\n",
            "up, liste,\n",
            "rassed\n",
            "barquctic speedy.\n",
            "Fredel frame, roking agotogoo and pe’s,! Therefore, nized it in genelagtill relish lineusticscbod.\n",
            "A feells?” exclaimed Pencroft. Do faror\n",
            "cry--thirty.”\n",
            " Ovember, but isiluted we\n",
            "guily obmure and extremity verce, lenwire-field. They swarmed ieds, Harding JulyA9us,\n"
          ]
        }
      ],
      "source": [
        "tf.random.set_seed(1)\n",
        "print(sample(model, starting_str='The island', \n",
        "             scale_factor=0.5))"
      ]
    },
    {
      "cell_type": "code",
      "source": [],
      "metadata": {
        "id": "Cs1J37SUFMrq"
      },
      "execution_count": 16,
      "outputs": []
    }
  ],
  "metadata": {
    "accelerator": "GPU",
    "colab": {
      "provenance": []
    },
    "kernelspec": {
      "display_name": "Python 3",
      "language": "python",
      "name": "python3"
    },
    "language_info": {
      "codemirror_mode": {
        "name": "ipython",
        "version": 3
      },
      "file_extension": ".py",
      "mimetype": "text/x-python",
      "name": "python",
      "nbconvert_exporter": "python",
      "pygments_lexer": "ipython3",
      "version": "3.7.3"
    }
  },
  "nbformat": 4,
  "nbformat_minor": 0
}