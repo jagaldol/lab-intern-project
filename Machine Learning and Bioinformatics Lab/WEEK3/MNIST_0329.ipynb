{
  "nbformat": 4,
  "nbformat_minor": 0,
  "metadata": {
    "colab": {
      "provenance": []
    },
    "kernelspec": {
      "name": "python3",
      "display_name": "Python 3"
    },
    "language_info": {
      "name": "python"
    },
    "accelerator": "GPU",
    "gpuClass": "standard",
    "widgets": {
      "application/vnd.jupyter.widget-state+json": {
        "4c452ef2a679437386e77ccf5d1692ec": {
          "model_module": "@jupyter-widgets/controls",
          "model_name": "HBoxModel",
          "model_module_version": "1.5.0",
          "state": {
            "_dom_classes": [],
            "_model_module": "@jupyter-widgets/controls",
            "_model_module_version": "1.5.0",
            "_model_name": "HBoxModel",
            "_view_count": null,
            "_view_module": "@jupyter-widgets/controls",
            "_view_module_version": "1.5.0",
            "_view_name": "HBoxView",
            "box_style": "",
            "children": [
              "IPY_MODEL_b81d14ede86d4eddbb76abc142a7de56",
              "IPY_MODEL_e8384f5240fd45018cbb08bea162fd59",
              "IPY_MODEL_011ebef06f7c40c7af910f394b766842"
            ],
            "layout": "IPY_MODEL_051fb4d48cf14f89baa9f11eb5323d5c"
          }
        },
        "b81d14ede86d4eddbb76abc142a7de56": {
          "model_module": "@jupyter-widgets/controls",
          "model_name": "HTMLModel",
          "model_module_version": "1.5.0",
          "state": {
            "_dom_classes": [],
            "_model_module": "@jupyter-widgets/controls",
            "_model_module_version": "1.5.0",
            "_model_name": "HTMLModel",
            "_view_count": null,
            "_view_module": "@jupyter-widgets/controls",
            "_view_module_version": "1.5.0",
            "_view_name": "HTMLView",
            "description": "",
            "description_tooltip": null,
            "layout": "IPY_MODEL_07f0534a7778404f82caeaf324b4c493",
            "placeholder": "​",
            "style": "IPY_MODEL_155bc9b002064e71a0c038a7dfd7c62e",
            "value": "100%"
          }
        },
        "e8384f5240fd45018cbb08bea162fd59": {
          "model_module": "@jupyter-widgets/controls",
          "model_name": "FloatProgressModel",
          "model_module_version": "1.5.0",
          "state": {
            "_dom_classes": [],
            "_model_module": "@jupyter-widgets/controls",
            "_model_module_version": "1.5.0",
            "_model_name": "FloatProgressModel",
            "_view_count": null,
            "_view_module": "@jupyter-widgets/controls",
            "_view_module_version": "1.5.0",
            "_view_name": "ProgressView",
            "bar_style": "success",
            "description": "",
            "description_tooltip": null,
            "layout": "IPY_MODEL_30c13514d4ff4cc985bdfdd43277ab1f",
            "max": 9912422,
            "min": 0,
            "orientation": "horizontal",
            "style": "IPY_MODEL_8a11fc10d00f46aea8e67d5610907208",
            "value": 9912422
          }
        },
        "011ebef06f7c40c7af910f394b766842": {
          "model_module": "@jupyter-widgets/controls",
          "model_name": "HTMLModel",
          "model_module_version": "1.5.0",
          "state": {
            "_dom_classes": [],
            "_model_module": "@jupyter-widgets/controls",
            "_model_module_version": "1.5.0",
            "_model_name": "HTMLModel",
            "_view_count": null,
            "_view_module": "@jupyter-widgets/controls",
            "_view_module_version": "1.5.0",
            "_view_name": "HTMLView",
            "description": "",
            "description_tooltip": null,
            "layout": "IPY_MODEL_8e7a3dd852f44d47951df7b9268c4cd0",
            "placeholder": "​",
            "style": "IPY_MODEL_3034b1a4e80740e189101bb79147f223",
            "value": " 9912422/9912422 [00:00&lt;00:00, 226071674.20it/s]"
          }
        },
        "051fb4d48cf14f89baa9f11eb5323d5c": {
          "model_module": "@jupyter-widgets/base",
          "model_name": "LayoutModel",
          "model_module_version": "1.2.0",
          "state": {
            "_model_module": "@jupyter-widgets/base",
            "_model_module_version": "1.2.0",
            "_model_name": "LayoutModel",
            "_view_count": null,
            "_view_module": "@jupyter-widgets/base",
            "_view_module_version": "1.2.0",
            "_view_name": "LayoutView",
            "align_content": null,
            "align_items": null,
            "align_self": null,
            "border": null,
            "bottom": null,
            "display": null,
            "flex": null,
            "flex_flow": null,
            "grid_area": null,
            "grid_auto_columns": null,
            "grid_auto_flow": null,
            "grid_auto_rows": null,
            "grid_column": null,
            "grid_gap": null,
            "grid_row": null,
            "grid_template_areas": null,
            "grid_template_columns": null,
            "grid_template_rows": null,
            "height": null,
            "justify_content": null,
            "justify_items": null,
            "left": null,
            "margin": null,
            "max_height": null,
            "max_width": null,
            "min_height": null,
            "min_width": null,
            "object_fit": null,
            "object_position": null,
            "order": null,
            "overflow": null,
            "overflow_x": null,
            "overflow_y": null,
            "padding": null,
            "right": null,
            "top": null,
            "visibility": null,
            "width": null
          }
        },
        "07f0534a7778404f82caeaf324b4c493": {
          "model_module": "@jupyter-widgets/base",
          "model_name": "LayoutModel",
          "model_module_version": "1.2.0",
          "state": {
            "_model_module": "@jupyter-widgets/base",
            "_model_module_version": "1.2.0",
            "_model_name": "LayoutModel",
            "_view_count": null,
            "_view_module": "@jupyter-widgets/base",
            "_view_module_version": "1.2.0",
            "_view_name": "LayoutView",
            "align_content": null,
            "align_items": null,
            "align_self": null,
            "border": null,
            "bottom": null,
            "display": null,
            "flex": null,
            "flex_flow": null,
            "grid_area": null,
            "grid_auto_columns": null,
            "grid_auto_flow": null,
            "grid_auto_rows": null,
            "grid_column": null,
            "grid_gap": null,
            "grid_row": null,
            "grid_template_areas": null,
            "grid_template_columns": null,
            "grid_template_rows": null,
            "height": null,
            "justify_content": null,
            "justify_items": null,
            "left": null,
            "margin": null,
            "max_height": null,
            "max_width": null,
            "min_height": null,
            "min_width": null,
            "object_fit": null,
            "object_position": null,
            "order": null,
            "overflow": null,
            "overflow_x": null,
            "overflow_y": null,
            "padding": null,
            "right": null,
            "top": null,
            "visibility": null,
            "width": null
          }
        },
        "155bc9b002064e71a0c038a7dfd7c62e": {
          "model_module": "@jupyter-widgets/controls",
          "model_name": "DescriptionStyleModel",
          "model_module_version": "1.5.0",
          "state": {
            "_model_module": "@jupyter-widgets/controls",
            "_model_module_version": "1.5.0",
            "_model_name": "DescriptionStyleModel",
            "_view_count": null,
            "_view_module": "@jupyter-widgets/base",
            "_view_module_version": "1.2.0",
            "_view_name": "StyleView",
            "description_width": ""
          }
        },
        "30c13514d4ff4cc985bdfdd43277ab1f": {
          "model_module": "@jupyter-widgets/base",
          "model_name": "LayoutModel",
          "model_module_version": "1.2.0",
          "state": {
            "_model_module": "@jupyter-widgets/base",
            "_model_module_version": "1.2.0",
            "_model_name": "LayoutModel",
            "_view_count": null,
            "_view_module": "@jupyter-widgets/base",
            "_view_module_version": "1.2.0",
            "_view_name": "LayoutView",
            "align_content": null,
            "align_items": null,
            "align_self": null,
            "border": null,
            "bottom": null,
            "display": null,
            "flex": null,
            "flex_flow": null,
            "grid_area": null,
            "grid_auto_columns": null,
            "grid_auto_flow": null,
            "grid_auto_rows": null,
            "grid_column": null,
            "grid_gap": null,
            "grid_row": null,
            "grid_template_areas": null,
            "grid_template_columns": null,
            "grid_template_rows": null,
            "height": null,
            "justify_content": null,
            "justify_items": null,
            "left": null,
            "margin": null,
            "max_height": null,
            "max_width": null,
            "min_height": null,
            "min_width": null,
            "object_fit": null,
            "object_position": null,
            "order": null,
            "overflow": null,
            "overflow_x": null,
            "overflow_y": null,
            "padding": null,
            "right": null,
            "top": null,
            "visibility": null,
            "width": null
          }
        },
        "8a11fc10d00f46aea8e67d5610907208": {
          "model_module": "@jupyter-widgets/controls",
          "model_name": "ProgressStyleModel",
          "model_module_version": "1.5.0",
          "state": {
            "_model_module": "@jupyter-widgets/controls",
            "_model_module_version": "1.5.0",
            "_model_name": "ProgressStyleModel",
            "_view_count": null,
            "_view_module": "@jupyter-widgets/base",
            "_view_module_version": "1.2.0",
            "_view_name": "StyleView",
            "bar_color": null,
            "description_width": ""
          }
        },
        "8e7a3dd852f44d47951df7b9268c4cd0": {
          "model_module": "@jupyter-widgets/base",
          "model_name": "LayoutModel",
          "model_module_version": "1.2.0",
          "state": {
            "_model_module": "@jupyter-widgets/base",
            "_model_module_version": "1.2.0",
            "_model_name": "LayoutModel",
            "_view_count": null,
            "_view_module": "@jupyter-widgets/base",
            "_view_module_version": "1.2.0",
            "_view_name": "LayoutView",
            "align_content": null,
            "align_items": null,
            "align_self": null,
            "border": null,
            "bottom": null,
            "display": null,
            "flex": null,
            "flex_flow": null,
            "grid_area": null,
            "grid_auto_columns": null,
            "grid_auto_flow": null,
            "grid_auto_rows": null,
            "grid_column": null,
            "grid_gap": null,
            "grid_row": null,
            "grid_template_areas": null,
            "grid_template_columns": null,
            "grid_template_rows": null,
            "height": null,
            "justify_content": null,
            "justify_items": null,
            "left": null,
            "margin": null,
            "max_height": null,
            "max_width": null,
            "min_height": null,
            "min_width": null,
            "object_fit": null,
            "object_position": null,
            "order": null,
            "overflow": null,
            "overflow_x": null,
            "overflow_y": null,
            "padding": null,
            "right": null,
            "top": null,
            "visibility": null,
            "width": null
          }
        },
        "3034b1a4e80740e189101bb79147f223": {
          "model_module": "@jupyter-widgets/controls",
          "model_name": "DescriptionStyleModel",
          "model_module_version": "1.5.0",
          "state": {
            "_model_module": "@jupyter-widgets/controls",
            "_model_module_version": "1.5.0",
            "_model_name": "DescriptionStyleModel",
            "_view_count": null,
            "_view_module": "@jupyter-widgets/base",
            "_view_module_version": "1.2.0",
            "_view_name": "StyleView",
            "description_width": ""
          }
        },
        "eef10afcc67347e78118e705dca0601c": {
          "model_module": "@jupyter-widgets/controls",
          "model_name": "HBoxModel",
          "model_module_version": "1.5.0",
          "state": {
            "_dom_classes": [],
            "_model_module": "@jupyter-widgets/controls",
            "_model_module_version": "1.5.0",
            "_model_name": "HBoxModel",
            "_view_count": null,
            "_view_module": "@jupyter-widgets/controls",
            "_view_module_version": "1.5.0",
            "_view_name": "HBoxView",
            "box_style": "",
            "children": [
              "IPY_MODEL_da457bb5257749efb7c9a105ff56d1be",
              "IPY_MODEL_a38f6b9a74604a999a8b1135b71c9f3a",
              "IPY_MODEL_ce7663f1ad3d41208ca39441d12aa1c1"
            ],
            "layout": "IPY_MODEL_38fd18b2d826483c92033394354ef8bb"
          }
        },
        "da457bb5257749efb7c9a105ff56d1be": {
          "model_module": "@jupyter-widgets/controls",
          "model_name": "HTMLModel",
          "model_module_version": "1.5.0",
          "state": {
            "_dom_classes": [],
            "_model_module": "@jupyter-widgets/controls",
            "_model_module_version": "1.5.0",
            "_model_name": "HTMLModel",
            "_view_count": null,
            "_view_module": "@jupyter-widgets/controls",
            "_view_module_version": "1.5.0",
            "_view_name": "HTMLView",
            "description": "",
            "description_tooltip": null,
            "layout": "IPY_MODEL_8c58c6a9dca74b529855f6cd8927e4a4",
            "placeholder": "​",
            "style": "IPY_MODEL_08264e17b7d54fa8be455bdea5c12e6d",
            "value": "100%"
          }
        },
        "a38f6b9a74604a999a8b1135b71c9f3a": {
          "model_module": "@jupyter-widgets/controls",
          "model_name": "FloatProgressModel",
          "model_module_version": "1.5.0",
          "state": {
            "_dom_classes": [],
            "_model_module": "@jupyter-widgets/controls",
            "_model_module_version": "1.5.0",
            "_model_name": "FloatProgressModel",
            "_view_count": null,
            "_view_module": "@jupyter-widgets/controls",
            "_view_module_version": "1.5.0",
            "_view_name": "ProgressView",
            "bar_style": "success",
            "description": "",
            "description_tooltip": null,
            "layout": "IPY_MODEL_1fcf71091e694603ba146e18695f87a1",
            "max": 28881,
            "min": 0,
            "orientation": "horizontal",
            "style": "IPY_MODEL_e6b6225e02cf437a8f8e93e279f1e773",
            "value": 28881
          }
        },
        "ce7663f1ad3d41208ca39441d12aa1c1": {
          "model_module": "@jupyter-widgets/controls",
          "model_name": "HTMLModel",
          "model_module_version": "1.5.0",
          "state": {
            "_dom_classes": [],
            "_model_module": "@jupyter-widgets/controls",
            "_model_module_version": "1.5.0",
            "_model_name": "HTMLModel",
            "_view_count": null,
            "_view_module": "@jupyter-widgets/controls",
            "_view_module_version": "1.5.0",
            "_view_name": "HTMLView",
            "description": "",
            "description_tooltip": null,
            "layout": "IPY_MODEL_d30d35e901b9406d95dc9a0076f93ad8",
            "placeholder": "​",
            "style": "IPY_MODEL_1ec13c73034d41f88bbb6a1a2a25e008",
            "value": " 28881/28881 [00:00&lt;00:00, 1318699.04it/s]"
          }
        },
        "38fd18b2d826483c92033394354ef8bb": {
          "model_module": "@jupyter-widgets/base",
          "model_name": "LayoutModel",
          "model_module_version": "1.2.0",
          "state": {
            "_model_module": "@jupyter-widgets/base",
            "_model_module_version": "1.2.0",
            "_model_name": "LayoutModel",
            "_view_count": null,
            "_view_module": "@jupyter-widgets/base",
            "_view_module_version": "1.2.0",
            "_view_name": "LayoutView",
            "align_content": null,
            "align_items": null,
            "align_self": null,
            "border": null,
            "bottom": null,
            "display": null,
            "flex": null,
            "flex_flow": null,
            "grid_area": null,
            "grid_auto_columns": null,
            "grid_auto_flow": null,
            "grid_auto_rows": null,
            "grid_column": null,
            "grid_gap": null,
            "grid_row": null,
            "grid_template_areas": null,
            "grid_template_columns": null,
            "grid_template_rows": null,
            "height": null,
            "justify_content": null,
            "justify_items": null,
            "left": null,
            "margin": null,
            "max_height": null,
            "max_width": null,
            "min_height": null,
            "min_width": null,
            "object_fit": null,
            "object_position": null,
            "order": null,
            "overflow": null,
            "overflow_x": null,
            "overflow_y": null,
            "padding": null,
            "right": null,
            "top": null,
            "visibility": null,
            "width": null
          }
        },
        "8c58c6a9dca74b529855f6cd8927e4a4": {
          "model_module": "@jupyter-widgets/base",
          "model_name": "LayoutModel",
          "model_module_version": "1.2.0",
          "state": {
            "_model_module": "@jupyter-widgets/base",
            "_model_module_version": "1.2.0",
            "_model_name": "LayoutModel",
            "_view_count": null,
            "_view_module": "@jupyter-widgets/base",
            "_view_module_version": "1.2.0",
            "_view_name": "LayoutView",
            "align_content": null,
            "align_items": null,
            "align_self": null,
            "border": null,
            "bottom": null,
            "display": null,
            "flex": null,
            "flex_flow": null,
            "grid_area": null,
            "grid_auto_columns": null,
            "grid_auto_flow": null,
            "grid_auto_rows": null,
            "grid_column": null,
            "grid_gap": null,
            "grid_row": null,
            "grid_template_areas": null,
            "grid_template_columns": null,
            "grid_template_rows": null,
            "height": null,
            "justify_content": null,
            "justify_items": null,
            "left": null,
            "margin": null,
            "max_height": null,
            "max_width": null,
            "min_height": null,
            "min_width": null,
            "object_fit": null,
            "object_position": null,
            "order": null,
            "overflow": null,
            "overflow_x": null,
            "overflow_y": null,
            "padding": null,
            "right": null,
            "top": null,
            "visibility": null,
            "width": null
          }
        },
        "08264e17b7d54fa8be455bdea5c12e6d": {
          "model_module": "@jupyter-widgets/controls",
          "model_name": "DescriptionStyleModel",
          "model_module_version": "1.5.0",
          "state": {
            "_model_module": "@jupyter-widgets/controls",
            "_model_module_version": "1.5.0",
            "_model_name": "DescriptionStyleModel",
            "_view_count": null,
            "_view_module": "@jupyter-widgets/base",
            "_view_module_version": "1.2.0",
            "_view_name": "StyleView",
            "description_width": ""
          }
        },
        "1fcf71091e694603ba146e18695f87a1": {
          "model_module": "@jupyter-widgets/base",
          "model_name": "LayoutModel",
          "model_module_version": "1.2.0",
          "state": {
            "_model_module": "@jupyter-widgets/base",
            "_model_module_version": "1.2.0",
            "_model_name": "LayoutModel",
            "_view_count": null,
            "_view_module": "@jupyter-widgets/base",
            "_view_module_version": "1.2.0",
            "_view_name": "LayoutView",
            "align_content": null,
            "align_items": null,
            "align_self": null,
            "border": null,
            "bottom": null,
            "display": null,
            "flex": null,
            "flex_flow": null,
            "grid_area": null,
            "grid_auto_columns": null,
            "grid_auto_flow": null,
            "grid_auto_rows": null,
            "grid_column": null,
            "grid_gap": null,
            "grid_row": null,
            "grid_template_areas": null,
            "grid_template_columns": null,
            "grid_template_rows": null,
            "height": null,
            "justify_content": null,
            "justify_items": null,
            "left": null,
            "margin": null,
            "max_height": null,
            "max_width": null,
            "min_height": null,
            "min_width": null,
            "object_fit": null,
            "object_position": null,
            "order": null,
            "overflow": null,
            "overflow_x": null,
            "overflow_y": null,
            "padding": null,
            "right": null,
            "top": null,
            "visibility": null,
            "width": null
          }
        },
        "e6b6225e02cf437a8f8e93e279f1e773": {
          "model_module": "@jupyter-widgets/controls",
          "model_name": "ProgressStyleModel",
          "model_module_version": "1.5.0",
          "state": {
            "_model_module": "@jupyter-widgets/controls",
            "_model_module_version": "1.5.0",
            "_model_name": "ProgressStyleModel",
            "_view_count": null,
            "_view_module": "@jupyter-widgets/base",
            "_view_module_version": "1.2.0",
            "_view_name": "StyleView",
            "bar_color": null,
            "description_width": ""
          }
        },
        "d30d35e901b9406d95dc9a0076f93ad8": {
          "model_module": "@jupyter-widgets/base",
          "model_name": "LayoutModel",
          "model_module_version": "1.2.0",
          "state": {
            "_model_module": "@jupyter-widgets/base",
            "_model_module_version": "1.2.0",
            "_model_name": "LayoutModel",
            "_view_count": null,
            "_view_module": "@jupyter-widgets/base",
            "_view_module_version": "1.2.0",
            "_view_name": "LayoutView",
            "align_content": null,
            "align_items": null,
            "align_self": null,
            "border": null,
            "bottom": null,
            "display": null,
            "flex": null,
            "flex_flow": null,
            "grid_area": null,
            "grid_auto_columns": null,
            "grid_auto_flow": null,
            "grid_auto_rows": null,
            "grid_column": null,
            "grid_gap": null,
            "grid_row": null,
            "grid_template_areas": null,
            "grid_template_columns": null,
            "grid_template_rows": null,
            "height": null,
            "justify_content": null,
            "justify_items": null,
            "left": null,
            "margin": null,
            "max_height": null,
            "max_width": null,
            "min_height": null,
            "min_width": null,
            "object_fit": null,
            "object_position": null,
            "order": null,
            "overflow": null,
            "overflow_x": null,
            "overflow_y": null,
            "padding": null,
            "right": null,
            "top": null,
            "visibility": null,
            "width": null
          }
        },
        "1ec13c73034d41f88bbb6a1a2a25e008": {
          "model_module": "@jupyter-widgets/controls",
          "model_name": "DescriptionStyleModel",
          "model_module_version": "1.5.0",
          "state": {
            "_model_module": "@jupyter-widgets/controls",
            "_model_module_version": "1.5.0",
            "_model_name": "DescriptionStyleModel",
            "_view_count": null,
            "_view_module": "@jupyter-widgets/base",
            "_view_module_version": "1.2.0",
            "_view_name": "StyleView",
            "description_width": ""
          }
        },
        "90d7b17a270f4822a8bdb573a245cc00": {
          "model_module": "@jupyter-widgets/controls",
          "model_name": "HBoxModel",
          "model_module_version": "1.5.0",
          "state": {
            "_dom_classes": [],
            "_model_module": "@jupyter-widgets/controls",
            "_model_module_version": "1.5.0",
            "_model_name": "HBoxModel",
            "_view_count": null,
            "_view_module": "@jupyter-widgets/controls",
            "_view_module_version": "1.5.0",
            "_view_name": "HBoxView",
            "box_style": "",
            "children": [
              "IPY_MODEL_fd784601a1d948e9a5d986edbca92939",
              "IPY_MODEL_4b7a95e3e370485b86eb7d1d94ba14cb",
              "IPY_MODEL_961e23e6f4b948d18c7aa348593fad63"
            ],
            "layout": "IPY_MODEL_1e8a4df7babf458abecde1eb15ad8494"
          }
        },
        "fd784601a1d948e9a5d986edbca92939": {
          "model_module": "@jupyter-widgets/controls",
          "model_name": "HTMLModel",
          "model_module_version": "1.5.0",
          "state": {
            "_dom_classes": [],
            "_model_module": "@jupyter-widgets/controls",
            "_model_module_version": "1.5.0",
            "_model_name": "HTMLModel",
            "_view_count": null,
            "_view_module": "@jupyter-widgets/controls",
            "_view_module_version": "1.5.0",
            "_view_name": "HTMLView",
            "description": "",
            "description_tooltip": null,
            "layout": "IPY_MODEL_e8946c73f0bc460d88da5869e2786ec2",
            "placeholder": "​",
            "style": "IPY_MODEL_564ca5ff70d34840a45a67edc5c42224",
            "value": "100%"
          }
        },
        "4b7a95e3e370485b86eb7d1d94ba14cb": {
          "model_module": "@jupyter-widgets/controls",
          "model_name": "FloatProgressModel",
          "model_module_version": "1.5.0",
          "state": {
            "_dom_classes": [],
            "_model_module": "@jupyter-widgets/controls",
            "_model_module_version": "1.5.0",
            "_model_name": "FloatProgressModel",
            "_view_count": null,
            "_view_module": "@jupyter-widgets/controls",
            "_view_module_version": "1.5.0",
            "_view_name": "ProgressView",
            "bar_style": "success",
            "description": "",
            "description_tooltip": null,
            "layout": "IPY_MODEL_57d2264f0b46498498750d410d6de372",
            "max": 1648877,
            "min": 0,
            "orientation": "horizontal",
            "style": "IPY_MODEL_a46cba213e1248799dda7b8618369b3f",
            "value": 1648877
          }
        },
        "961e23e6f4b948d18c7aa348593fad63": {
          "model_module": "@jupyter-widgets/controls",
          "model_name": "HTMLModel",
          "model_module_version": "1.5.0",
          "state": {
            "_dom_classes": [],
            "_model_module": "@jupyter-widgets/controls",
            "_model_module_version": "1.5.0",
            "_model_name": "HTMLModel",
            "_view_count": null,
            "_view_module": "@jupyter-widgets/controls",
            "_view_module_version": "1.5.0",
            "_view_name": "HTMLView",
            "description": "",
            "description_tooltip": null,
            "layout": "IPY_MODEL_10053245aee94b7cb3e931bdf013f503",
            "placeholder": "​",
            "style": "IPY_MODEL_9b09ec203e6d4d9eb04cf704dfcb369d",
            "value": " 1648877/1648877 [00:00&lt;00:00, 62676303.86it/s]"
          }
        },
        "1e8a4df7babf458abecde1eb15ad8494": {
          "model_module": "@jupyter-widgets/base",
          "model_name": "LayoutModel",
          "model_module_version": "1.2.0",
          "state": {
            "_model_module": "@jupyter-widgets/base",
            "_model_module_version": "1.2.0",
            "_model_name": "LayoutModel",
            "_view_count": null,
            "_view_module": "@jupyter-widgets/base",
            "_view_module_version": "1.2.0",
            "_view_name": "LayoutView",
            "align_content": null,
            "align_items": null,
            "align_self": null,
            "border": null,
            "bottom": null,
            "display": null,
            "flex": null,
            "flex_flow": null,
            "grid_area": null,
            "grid_auto_columns": null,
            "grid_auto_flow": null,
            "grid_auto_rows": null,
            "grid_column": null,
            "grid_gap": null,
            "grid_row": null,
            "grid_template_areas": null,
            "grid_template_columns": null,
            "grid_template_rows": null,
            "height": null,
            "justify_content": null,
            "justify_items": null,
            "left": null,
            "margin": null,
            "max_height": null,
            "max_width": null,
            "min_height": null,
            "min_width": null,
            "object_fit": null,
            "object_position": null,
            "order": null,
            "overflow": null,
            "overflow_x": null,
            "overflow_y": null,
            "padding": null,
            "right": null,
            "top": null,
            "visibility": null,
            "width": null
          }
        },
        "e8946c73f0bc460d88da5869e2786ec2": {
          "model_module": "@jupyter-widgets/base",
          "model_name": "LayoutModel",
          "model_module_version": "1.2.0",
          "state": {
            "_model_module": "@jupyter-widgets/base",
            "_model_module_version": "1.2.0",
            "_model_name": "LayoutModel",
            "_view_count": null,
            "_view_module": "@jupyter-widgets/base",
            "_view_module_version": "1.2.0",
            "_view_name": "LayoutView",
            "align_content": null,
            "align_items": null,
            "align_self": null,
            "border": null,
            "bottom": null,
            "display": null,
            "flex": null,
            "flex_flow": null,
            "grid_area": null,
            "grid_auto_columns": null,
            "grid_auto_flow": null,
            "grid_auto_rows": null,
            "grid_column": null,
            "grid_gap": null,
            "grid_row": null,
            "grid_template_areas": null,
            "grid_template_columns": null,
            "grid_template_rows": null,
            "height": null,
            "justify_content": null,
            "justify_items": null,
            "left": null,
            "margin": null,
            "max_height": null,
            "max_width": null,
            "min_height": null,
            "min_width": null,
            "object_fit": null,
            "object_position": null,
            "order": null,
            "overflow": null,
            "overflow_x": null,
            "overflow_y": null,
            "padding": null,
            "right": null,
            "top": null,
            "visibility": null,
            "width": null
          }
        },
        "564ca5ff70d34840a45a67edc5c42224": {
          "model_module": "@jupyter-widgets/controls",
          "model_name": "DescriptionStyleModel",
          "model_module_version": "1.5.0",
          "state": {
            "_model_module": "@jupyter-widgets/controls",
            "_model_module_version": "1.5.0",
            "_model_name": "DescriptionStyleModel",
            "_view_count": null,
            "_view_module": "@jupyter-widgets/base",
            "_view_module_version": "1.2.0",
            "_view_name": "StyleView",
            "description_width": ""
          }
        },
        "57d2264f0b46498498750d410d6de372": {
          "model_module": "@jupyter-widgets/base",
          "model_name": "LayoutModel",
          "model_module_version": "1.2.0",
          "state": {
            "_model_module": "@jupyter-widgets/base",
            "_model_module_version": "1.2.0",
            "_model_name": "LayoutModel",
            "_view_count": null,
            "_view_module": "@jupyter-widgets/base",
            "_view_module_version": "1.2.0",
            "_view_name": "LayoutView",
            "align_content": null,
            "align_items": null,
            "align_self": null,
            "border": null,
            "bottom": null,
            "display": null,
            "flex": null,
            "flex_flow": null,
            "grid_area": null,
            "grid_auto_columns": null,
            "grid_auto_flow": null,
            "grid_auto_rows": null,
            "grid_column": null,
            "grid_gap": null,
            "grid_row": null,
            "grid_template_areas": null,
            "grid_template_columns": null,
            "grid_template_rows": null,
            "height": null,
            "justify_content": null,
            "justify_items": null,
            "left": null,
            "margin": null,
            "max_height": null,
            "max_width": null,
            "min_height": null,
            "min_width": null,
            "object_fit": null,
            "object_position": null,
            "order": null,
            "overflow": null,
            "overflow_x": null,
            "overflow_y": null,
            "padding": null,
            "right": null,
            "top": null,
            "visibility": null,
            "width": null
          }
        },
        "a46cba213e1248799dda7b8618369b3f": {
          "model_module": "@jupyter-widgets/controls",
          "model_name": "ProgressStyleModel",
          "model_module_version": "1.5.0",
          "state": {
            "_model_module": "@jupyter-widgets/controls",
            "_model_module_version": "1.5.0",
            "_model_name": "ProgressStyleModel",
            "_view_count": null,
            "_view_module": "@jupyter-widgets/base",
            "_view_module_version": "1.2.0",
            "_view_name": "StyleView",
            "bar_color": null,
            "description_width": ""
          }
        },
        "10053245aee94b7cb3e931bdf013f503": {
          "model_module": "@jupyter-widgets/base",
          "model_name": "LayoutModel",
          "model_module_version": "1.2.0",
          "state": {
            "_model_module": "@jupyter-widgets/base",
            "_model_module_version": "1.2.0",
            "_model_name": "LayoutModel",
            "_view_count": null,
            "_view_module": "@jupyter-widgets/base",
            "_view_module_version": "1.2.0",
            "_view_name": "LayoutView",
            "align_content": null,
            "align_items": null,
            "align_self": null,
            "border": null,
            "bottom": null,
            "display": null,
            "flex": null,
            "flex_flow": null,
            "grid_area": null,
            "grid_auto_columns": null,
            "grid_auto_flow": null,
            "grid_auto_rows": null,
            "grid_column": null,
            "grid_gap": null,
            "grid_row": null,
            "grid_template_areas": null,
            "grid_template_columns": null,
            "grid_template_rows": null,
            "height": null,
            "justify_content": null,
            "justify_items": null,
            "left": null,
            "margin": null,
            "max_height": null,
            "max_width": null,
            "min_height": null,
            "min_width": null,
            "object_fit": null,
            "object_position": null,
            "order": null,
            "overflow": null,
            "overflow_x": null,
            "overflow_y": null,
            "padding": null,
            "right": null,
            "top": null,
            "visibility": null,
            "width": null
          }
        },
        "9b09ec203e6d4d9eb04cf704dfcb369d": {
          "model_module": "@jupyter-widgets/controls",
          "model_name": "DescriptionStyleModel",
          "model_module_version": "1.5.0",
          "state": {
            "_model_module": "@jupyter-widgets/controls",
            "_model_module_version": "1.5.0",
            "_model_name": "DescriptionStyleModel",
            "_view_count": null,
            "_view_module": "@jupyter-widgets/base",
            "_view_module_version": "1.2.0",
            "_view_name": "StyleView",
            "description_width": ""
          }
        },
        "b6084e5fe41849e382062d22b202cfae": {
          "model_module": "@jupyter-widgets/controls",
          "model_name": "HBoxModel",
          "model_module_version": "1.5.0",
          "state": {
            "_dom_classes": [],
            "_model_module": "@jupyter-widgets/controls",
            "_model_module_version": "1.5.0",
            "_model_name": "HBoxModel",
            "_view_count": null,
            "_view_module": "@jupyter-widgets/controls",
            "_view_module_version": "1.5.0",
            "_view_name": "HBoxView",
            "box_style": "",
            "children": [
              "IPY_MODEL_fd99cf4520f44c7d82d740b0f2429002",
              "IPY_MODEL_bf7cfe39077644568b5f0bd4872fcd60",
              "IPY_MODEL_9c584c375b6c4bf0b7bb384cd74c5a32"
            ],
            "layout": "IPY_MODEL_f345df43680d4057a60d76755255b441"
          }
        },
        "fd99cf4520f44c7d82d740b0f2429002": {
          "model_module": "@jupyter-widgets/controls",
          "model_name": "HTMLModel",
          "model_module_version": "1.5.0",
          "state": {
            "_dom_classes": [],
            "_model_module": "@jupyter-widgets/controls",
            "_model_module_version": "1.5.0",
            "_model_name": "HTMLModel",
            "_view_count": null,
            "_view_module": "@jupyter-widgets/controls",
            "_view_module_version": "1.5.0",
            "_view_name": "HTMLView",
            "description": "",
            "description_tooltip": null,
            "layout": "IPY_MODEL_5744dd78f9354a5193ac77a61c091fba",
            "placeholder": "​",
            "style": "IPY_MODEL_fd21c2020a534592992ed07125196f9f",
            "value": "100%"
          }
        },
        "bf7cfe39077644568b5f0bd4872fcd60": {
          "model_module": "@jupyter-widgets/controls",
          "model_name": "FloatProgressModel",
          "model_module_version": "1.5.0",
          "state": {
            "_dom_classes": [],
            "_model_module": "@jupyter-widgets/controls",
            "_model_module_version": "1.5.0",
            "_model_name": "FloatProgressModel",
            "_view_count": null,
            "_view_module": "@jupyter-widgets/controls",
            "_view_module_version": "1.5.0",
            "_view_name": "ProgressView",
            "bar_style": "success",
            "description": "",
            "description_tooltip": null,
            "layout": "IPY_MODEL_3d32b8169c4a4262ad44c25944577603",
            "max": 4542,
            "min": 0,
            "orientation": "horizontal",
            "style": "IPY_MODEL_9d0190fceba647cc8616eaf55b09f19b",
            "value": 4542
          }
        },
        "9c584c375b6c4bf0b7bb384cd74c5a32": {
          "model_module": "@jupyter-widgets/controls",
          "model_name": "HTMLModel",
          "model_module_version": "1.5.0",
          "state": {
            "_dom_classes": [],
            "_model_module": "@jupyter-widgets/controls",
            "_model_module_version": "1.5.0",
            "_model_name": "HTMLModel",
            "_view_count": null,
            "_view_module": "@jupyter-widgets/controls",
            "_view_module_version": "1.5.0",
            "_view_name": "HTMLView",
            "description": "",
            "description_tooltip": null,
            "layout": "IPY_MODEL_a41baa39e739499399dcf2a1b0b4dedf",
            "placeholder": "​",
            "style": "IPY_MODEL_7a9cab42dd2f438c8a10789343bc9f4d",
            "value": " 4542/4542 [00:00&lt;00:00, 332151.14it/s]"
          }
        },
        "f345df43680d4057a60d76755255b441": {
          "model_module": "@jupyter-widgets/base",
          "model_name": "LayoutModel",
          "model_module_version": "1.2.0",
          "state": {
            "_model_module": "@jupyter-widgets/base",
            "_model_module_version": "1.2.0",
            "_model_name": "LayoutModel",
            "_view_count": null,
            "_view_module": "@jupyter-widgets/base",
            "_view_module_version": "1.2.0",
            "_view_name": "LayoutView",
            "align_content": null,
            "align_items": null,
            "align_self": null,
            "border": null,
            "bottom": null,
            "display": null,
            "flex": null,
            "flex_flow": null,
            "grid_area": null,
            "grid_auto_columns": null,
            "grid_auto_flow": null,
            "grid_auto_rows": null,
            "grid_column": null,
            "grid_gap": null,
            "grid_row": null,
            "grid_template_areas": null,
            "grid_template_columns": null,
            "grid_template_rows": null,
            "height": null,
            "justify_content": null,
            "justify_items": null,
            "left": null,
            "margin": null,
            "max_height": null,
            "max_width": null,
            "min_height": null,
            "min_width": null,
            "object_fit": null,
            "object_position": null,
            "order": null,
            "overflow": null,
            "overflow_x": null,
            "overflow_y": null,
            "padding": null,
            "right": null,
            "top": null,
            "visibility": null,
            "width": null
          }
        },
        "5744dd78f9354a5193ac77a61c091fba": {
          "model_module": "@jupyter-widgets/base",
          "model_name": "LayoutModel",
          "model_module_version": "1.2.0",
          "state": {
            "_model_module": "@jupyter-widgets/base",
            "_model_module_version": "1.2.0",
            "_model_name": "LayoutModel",
            "_view_count": null,
            "_view_module": "@jupyter-widgets/base",
            "_view_module_version": "1.2.0",
            "_view_name": "LayoutView",
            "align_content": null,
            "align_items": null,
            "align_self": null,
            "border": null,
            "bottom": null,
            "display": null,
            "flex": null,
            "flex_flow": null,
            "grid_area": null,
            "grid_auto_columns": null,
            "grid_auto_flow": null,
            "grid_auto_rows": null,
            "grid_column": null,
            "grid_gap": null,
            "grid_row": null,
            "grid_template_areas": null,
            "grid_template_columns": null,
            "grid_template_rows": null,
            "height": null,
            "justify_content": null,
            "justify_items": null,
            "left": null,
            "margin": null,
            "max_height": null,
            "max_width": null,
            "min_height": null,
            "min_width": null,
            "object_fit": null,
            "object_position": null,
            "order": null,
            "overflow": null,
            "overflow_x": null,
            "overflow_y": null,
            "padding": null,
            "right": null,
            "top": null,
            "visibility": null,
            "width": null
          }
        },
        "fd21c2020a534592992ed07125196f9f": {
          "model_module": "@jupyter-widgets/controls",
          "model_name": "DescriptionStyleModel",
          "model_module_version": "1.5.0",
          "state": {
            "_model_module": "@jupyter-widgets/controls",
            "_model_module_version": "1.5.0",
            "_model_name": "DescriptionStyleModel",
            "_view_count": null,
            "_view_module": "@jupyter-widgets/base",
            "_view_module_version": "1.2.0",
            "_view_name": "StyleView",
            "description_width": ""
          }
        },
        "3d32b8169c4a4262ad44c25944577603": {
          "model_module": "@jupyter-widgets/base",
          "model_name": "LayoutModel",
          "model_module_version": "1.2.0",
          "state": {
            "_model_module": "@jupyter-widgets/base",
            "_model_module_version": "1.2.0",
            "_model_name": "LayoutModel",
            "_view_count": null,
            "_view_module": "@jupyter-widgets/base",
            "_view_module_version": "1.2.0",
            "_view_name": "LayoutView",
            "align_content": null,
            "align_items": null,
            "align_self": null,
            "border": null,
            "bottom": null,
            "display": null,
            "flex": null,
            "flex_flow": null,
            "grid_area": null,
            "grid_auto_columns": null,
            "grid_auto_flow": null,
            "grid_auto_rows": null,
            "grid_column": null,
            "grid_gap": null,
            "grid_row": null,
            "grid_template_areas": null,
            "grid_template_columns": null,
            "grid_template_rows": null,
            "height": null,
            "justify_content": null,
            "justify_items": null,
            "left": null,
            "margin": null,
            "max_height": null,
            "max_width": null,
            "min_height": null,
            "min_width": null,
            "object_fit": null,
            "object_position": null,
            "order": null,
            "overflow": null,
            "overflow_x": null,
            "overflow_y": null,
            "padding": null,
            "right": null,
            "top": null,
            "visibility": null,
            "width": null
          }
        },
        "9d0190fceba647cc8616eaf55b09f19b": {
          "model_module": "@jupyter-widgets/controls",
          "model_name": "ProgressStyleModel",
          "model_module_version": "1.5.0",
          "state": {
            "_model_module": "@jupyter-widgets/controls",
            "_model_module_version": "1.5.0",
            "_model_name": "ProgressStyleModel",
            "_view_count": null,
            "_view_module": "@jupyter-widgets/base",
            "_view_module_version": "1.2.0",
            "_view_name": "StyleView",
            "bar_color": null,
            "description_width": ""
          }
        },
        "a41baa39e739499399dcf2a1b0b4dedf": {
          "model_module": "@jupyter-widgets/base",
          "model_name": "LayoutModel",
          "model_module_version": "1.2.0",
          "state": {
            "_model_module": "@jupyter-widgets/base",
            "_model_module_version": "1.2.0",
            "_model_name": "LayoutModel",
            "_view_count": null,
            "_view_module": "@jupyter-widgets/base",
            "_view_module_version": "1.2.0",
            "_view_name": "LayoutView",
            "align_content": null,
            "align_items": null,
            "align_self": null,
            "border": null,
            "bottom": null,
            "display": null,
            "flex": null,
            "flex_flow": null,
            "grid_area": null,
            "grid_auto_columns": null,
            "grid_auto_flow": null,
            "grid_auto_rows": null,
            "grid_column": null,
            "grid_gap": null,
            "grid_row": null,
            "grid_template_areas": null,
            "grid_template_columns": null,
            "grid_template_rows": null,
            "height": null,
            "justify_content": null,
            "justify_items": null,
            "left": null,
            "margin": null,
            "max_height": null,
            "max_width": null,
            "min_height": null,
            "min_width": null,
            "object_fit": null,
            "object_position": null,
            "order": null,
            "overflow": null,
            "overflow_x": null,
            "overflow_y": null,
            "padding": null,
            "right": null,
            "top": null,
            "visibility": null,
            "width": null
          }
        },
        "7a9cab42dd2f438c8a10789343bc9f4d": {
          "model_module": "@jupyter-widgets/controls",
          "model_name": "DescriptionStyleModel",
          "model_module_version": "1.5.0",
          "state": {
            "_model_module": "@jupyter-widgets/controls",
            "_model_module_version": "1.5.0",
            "_model_name": "DescriptionStyleModel",
            "_view_count": null,
            "_view_module": "@jupyter-widgets/base",
            "_view_module_version": "1.2.0",
            "_view_name": "StyleView",
            "description_width": ""
          }
        }
      }
    }
  },
  "cells": [
    {
      "cell_type": "markdown",
      "source": [
        "# import libraries and packages"
      ],
      "metadata": {
        "id": "tdc2Lt-80pHE"
      }
    },
    {
      "cell_type": "code",
      "source": [
        "import torch\n",
        "import torch.nn as nn\n",
        "import torch.optim as optim\n",
        "import torchvision.datasets as datasets\n",
        "import torchvision.transforms as transforms\n",
        "from torch.utils.data import random_split, DataLoader\n",
        "\n",
        "import tensorflow as tf\n",
        "from tensorflow.keras.datasets import mnist\n",
        "from tensorflow.keras.models import Sequential\n",
        "from tensorflow.keras.layers import Conv2D, MaxPooling2D, Flatten, Dense\n",
        "from tensorflow.keras.utils import to_categorical\n",
        "from tensorflow.keras import regularizers, optimizers\n",
        "\n",
        "import matplotlib.pyplot as plt\n",
        "\n",
        "# Set device\n",
        "device = torch.device('cuda' if torch.cuda.is_available() else 'cpu')\n",
        "\n",
        "# Set random seed for reproducibility\n",
        "torch.manual_seed(0)\n",
        "tf.random.set_seed(0)"
      ],
      "metadata": {
        "id": "qsSuvyhWudr3"
      },
      "execution_count": null,
      "outputs": []
    },
    {
      "cell_type": "markdown",
      "source": [
        "# Load the MNIST dataset from pytorch and tensorflow\n"
      ],
      "metadata": {
        "id": "4yFtqj3g0t5l"
      }
    },
    {
      "cell_type": "markdown",
      "source": [
        "## From PyTorch\n"
      ],
      "metadata": {
        "id": "HZb75Ff-03PQ"
      }
    },
    {
      "cell_type": "code",
      "source": [
        "# Define transform\n",
        "transform = transforms.Compose([\n",
        "    transforms.ToTensor(),\n",
        "    transforms.Normalize((0.1307,), (0.3081,))\n",
        "])\n",
        "\n",
        "# Load the MNIST dataset for PyTorch\n",
        "train_dataset = datasets.MNIST(root='./data', train=True, download=True, transform=transform)\n",
        "test_dataset = datasets.MNIST(root='./data', train=False, download=True, transform=transform)\n",
        "\n",
        "# Split the training set into training and validation sets\n",
        "train_dataset, valid_dataset = random_split(train_dataset, [50000, 10000])"
      ],
      "metadata": {
        "colab": {
          "base_uri": "https://localhost:8080/",
          "height": 444,
          "referenced_widgets": [
            "4c452ef2a679437386e77ccf5d1692ec",
            "b81d14ede86d4eddbb76abc142a7de56",
            "e8384f5240fd45018cbb08bea162fd59",
            "011ebef06f7c40c7af910f394b766842",
            "051fb4d48cf14f89baa9f11eb5323d5c",
            "07f0534a7778404f82caeaf324b4c493",
            "155bc9b002064e71a0c038a7dfd7c62e",
            "30c13514d4ff4cc985bdfdd43277ab1f",
            "8a11fc10d00f46aea8e67d5610907208",
            "8e7a3dd852f44d47951df7b9268c4cd0",
            "3034b1a4e80740e189101bb79147f223",
            "eef10afcc67347e78118e705dca0601c",
            "da457bb5257749efb7c9a105ff56d1be",
            "a38f6b9a74604a999a8b1135b71c9f3a",
            "ce7663f1ad3d41208ca39441d12aa1c1",
            "38fd18b2d826483c92033394354ef8bb",
            "8c58c6a9dca74b529855f6cd8927e4a4",
            "08264e17b7d54fa8be455bdea5c12e6d",
            "1fcf71091e694603ba146e18695f87a1",
            "e6b6225e02cf437a8f8e93e279f1e773",
            "d30d35e901b9406d95dc9a0076f93ad8",
            "1ec13c73034d41f88bbb6a1a2a25e008",
            "90d7b17a270f4822a8bdb573a245cc00",
            "fd784601a1d948e9a5d986edbca92939",
            "4b7a95e3e370485b86eb7d1d94ba14cb",
            "961e23e6f4b948d18c7aa348593fad63",
            "1e8a4df7babf458abecde1eb15ad8494",
            "e8946c73f0bc460d88da5869e2786ec2",
            "564ca5ff70d34840a45a67edc5c42224",
            "57d2264f0b46498498750d410d6de372",
            "a46cba213e1248799dda7b8618369b3f",
            "10053245aee94b7cb3e931bdf013f503",
            "9b09ec203e6d4d9eb04cf704dfcb369d",
            "b6084e5fe41849e382062d22b202cfae",
            "fd99cf4520f44c7d82d740b0f2429002",
            "bf7cfe39077644568b5f0bd4872fcd60",
            "9c584c375b6c4bf0b7bb384cd74c5a32",
            "f345df43680d4057a60d76755255b441",
            "5744dd78f9354a5193ac77a61c091fba",
            "fd21c2020a534592992ed07125196f9f",
            "3d32b8169c4a4262ad44c25944577603",
            "9d0190fceba647cc8616eaf55b09f19b",
            "a41baa39e739499399dcf2a1b0b4dedf",
            "7a9cab42dd2f438c8a10789343bc9f4d"
          ]
        },
        "id": "cvN4-3lY02O5",
        "outputId": "0cf73d00-4157-4ff3-b483-b9f4f5c34cea"
      },
      "execution_count": null,
      "outputs": [
        {
          "output_type": "stream",
          "name": "stdout",
          "text": [
            "Downloading http://yann.lecun.com/exdb/mnist/train-images-idx3-ubyte.gz\n",
            "Downloading http://yann.lecun.com/exdb/mnist/train-images-idx3-ubyte.gz to ./data/MNIST/raw/train-images-idx3-ubyte.gz\n"
          ]
        },
        {
          "output_type": "display_data",
          "data": {
            "text/plain": [
              "  0%|          | 0/9912422 [00:00<?, ?it/s]"
            ],
            "application/vnd.jupyter.widget-view+json": {
              "version_major": 2,
              "version_minor": 0,
              "model_id": "4c452ef2a679437386e77ccf5d1692ec"
            }
          },
          "metadata": {}
        },
        {
          "output_type": "stream",
          "name": "stdout",
          "text": [
            "Extracting ./data/MNIST/raw/train-images-idx3-ubyte.gz to ./data/MNIST/raw\n",
            "\n",
            "Downloading http://yann.lecun.com/exdb/mnist/train-labels-idx1-ubyte.gz\n",
            "Downloading http://yann.lecun.com/exdb/mnist/train-labels-idx1-ubyte.gz to ./data/MNIST/raw/train-labels-idx1-ubyte.gz\n"
          ]
        },
        {
          "output_type": "display_data",
          "data": {
            "text/plain": [
              "  0%|          | 0/28881 [00:00<?, ?it/s]"
            ],
            "application/vnd.jupyter.widget-view+json": {
              "version_major": 2,
              "version_minor": 0,
              "model_id": "eef10afcc67347e78118e705dca0601c"
            }
          },
          "metadata": {}
        },
        {
          "output_type": "stream",
          "name": "stdout",
          "text": [
            "Extracting ./data/MNIST/raw/train-labels-idx1-ubyte.gz to ./data/MNIST/raw\n",
            "\n",
            "Downloading http://yann.lecun.com/exdb/mnist/t10k-images-idx3-ubyte.gz\n",
            "Downloading http://yann.lecun.com/exdb/mnist/t10k-images-idx3-ubyte.gz to ./data/MNIST/raw/t10k-images-idx3-ubyte.gz\n"
          ]
        },
        {
          "output_type": "display_data",
          "data": {
            "text/plain": [
              "  0%|          | 0/1648877 [00:00<?, ?it/s]"
            ],
            "application/vnd.jupyter.widget-view+json": {
              "version_major": 2,
              "version_minor": 0,
              "model_id": "90d7b17a270f4822a8bdb573a245cc00"
            }
          },
          "metadata": {}
        },
        {
          "output_type": "stream",
          "name": "stdout",
          "text": [
            "Extracting ./data/MNIST/raw/t10k-images-idx3-ubyte.gz to ./data/MNIST/raw\n",
            "\n",
            "Downloading http://yann.lecun.com/exdb/mnist/t10k-labels-idx1-ubyte.gz\n",
            "Downloading http://yann.lecun.com/exdb/mnist/t10k-labels-idx1-ubyte.gz to ./data/MNIST/raw/t10k-labels-idx1-ubyte.gz\n"
          ]
        },
        {
          "output_type": "display_data",
          "data": {
            "text/plain": [
              "  0%|          | 0/4542 [00:00<?, ?it/s]"
            ],
            "application/vnd.jupyter.widget-view+json": {
              "version_major": 2,
              "version_minor": 0,
              "model_id": "b6084e5fe41849e382062d22b202cfae"
            }
          },
          "metadata": {}
        },
        {
          "output_type": "stream",
          "name": "stdout",
          "text": [
            "Extracting ./data/MNIST/raw/t10k-labels-idx1-ubyte.gz to ./data/MNIST/raw\n",
            "\n"
          ]
        }
      ]
    },
    {
      "cell_type": "markdown",
      "source": [
        "## From Tensorflow"
      ],
      "metadata": {
        "id": "HizTYj6a07zA"
      }
    },
    {
      "cell_type": "code",
      "source": [
        "# Load the MNIST dataset for TensorFlow\n",
        "(train_images, train_labels), (test_images, test_labels) = mnist.load_data()\n",
        "\n",
        "# Normalize the images\n",
        "train_images = train_images / 255.0\n",
        "test_images = test_images / 255.0\n",
        "\n",
        "# Convert the labels to one-hot encoded vectors\n",
        "train_labels = to_categorical(train_labels)\n",
        "test_labels = to_categorical(test_labels)\n",
        "\n",
        "# Split the training set into training and validation sets\n",
        "train_images, valid_images = train_images[:50000], train_images[50000:]\n",
        "train_labels, valid_labels = train_labels[:50000], train_labels[50000:]"
      ],
      "metadata": {
        "colab": {
          "base_uri": "https://localhost:8080/"
        },
        "id": "zUUw5tnk07jv",
        "outputId": "0bdf6e0d-5430-4f38-8f7d-2438cb839db8"
      },
      "execution_count": null,
      "outputs": [
        {
          "output_type": "stream",
          "name": "stdout",
          "text": [
            "Downloading data from https://storage.googleapis.com/tensorflow/tf-keras-datasets/mnist.npz\n",
            "11490434/11490434 [==============================] - 2s 0us/step\n"
          ]
        }
      ]
    },
    {
      "cell_type": "markdown",
      "source": [
        "# Build and define the models (MLP, CNN)"
      ],
      "metadata": {
        "id": "QrOLDNwW1IC9"
      }
    },
    {
      "cell_type": "markdown",
      "source": [
        "## MLP"
      ],
      "metadata": {
        "id": "efEbUX051qqb"
      }
    },
    {
      "cell_type": "code",
      "source": [
        "# Define model architecture for PyTorch\n",
        "class MLP(nn.Module):\n",
        "    def __init__(self):\n",
        "        super(MLP, self).__init__()\n",
        "        self.fc1 = nn.Linear(28*28, 256)\n",
        "        self.fc2 = nn.Linear(256, 128)\n",
        "        self.fc3 = nn.Linear(128, 10)\n",
        "\n",
        "    def forward(self, x):\n",
        "        x = x.view(x.size(0), -1)\n",
        "        x = self.fc1(x)\n",
        "        x = nn.functional.relu(x)\n",
        "        x = self.fc2(x)\n",
        "        x = nn.functional.relu(x)\n",
        "        x = self.fc3(x)\n",
        "        x = nn.functional.softmax(x, dim=1)\n",
        "        return x"
      ],
      "metadata": {
        "id": "MQiCOVZ21LoO"
      },
      "execution_count": null,
      "outputs": []
    },
    {
      "cell_type": "code",
      "source": [
        "# Define the model architecture for TensorFlow\n",
        "mlp_tf = Sequential([\n",
        "    Flatten(input_shape=(28, 28)),\n",
        "    Dense(256, activation='relu'),\n",
        "    Dense(128, activation='relu'),\n",
        "    Dense(10, activation='softmax')\n",
        "])"
      ],
      "metadata": {
        "id": "Iyl-Y0la1Lgr"
      },
      "execution_count": null,
      "outputs": []
    },
    {
      "cell_type": "markdown",
      "source": [
        "## CNN"
      ],
      "metadata": {
        "id": "QUh909qI1m2d"
      }
    },
    {
      "cell_type": "code",
      "source": [
        "# Define model architecture for PyTorch\n",
        "class CNN(nn.Module):\n",
        "    def __init__(self, num_classes=10):\n",
        "        super(CNN, self).__init__()\n",
        "        self.conv1 = nn.Conv2d(1, 32, kernel_size=3, stride=1, padding=1)\n",
        "        self.conv2 = nn.Conv2d(32, 64, kernel_size=3, stride=1, padding=1)\n",
        "        self.fc1 = nn.Linear(64*7*7, 128)\n",
        "        self.fc2 = nn.Linear(128, num_classes)\n",
        "\n",
        "    def forward(self, x):\n",
        "        x = self.conv1(x)\n",
        "        x = nn.functional.relu(x)\n",
        "        x = nn.functional.max_pool2d(x, kernel_size=2, stride=2)\n",
        "        x = self.conv2(x)\n",
        "        x = nn.functional.relu(x)\n",
        "        x = nn.functional.max_pool2d(x, kernel_size=2, stride=2)\n",
        "        x = x.view(x.size(0), -1)\n",
        "        x = self.fc1(x)\n",
        "        x = nn.functional.relu(x)\n",
        "        x = self.fc2(x)\n",
        "        x = nn.functional.log_softmax(x, dim=1)\n",
        "        return x"
      ],
      "metadata": {
        "id": "Dqrj4wuK1vr3"
      },
      "execution_count": null,
      "outputs": []
    },
    {
      "cell_type": "code",
      "source": [
        "# Define the model architecture for TensorFlow\n",
        "cnn_tf = Sequential([\n",
        "    Conv2D(32, (3,3), activation='relu', input_shape=(28,28,1)),\n",
        "    MaxPooling2D(pool_size=(2,2), strides=(2, 2)),\n",
        "    Conv2D(64, (3,3), activation='relu'),\n",
        "    MaxPooling2D(pool_size=(2,2), strides=(2, 2)),\n",
        "    Flatten(),\n",
        "    Dense(128, activation='relu'),\n",
        "    Dense(10, activation='softmax')\n",
        "])"
      ],
      "metadata": {
        "id": "gIGyPoCv1vpw"
      },
      "execution_count": null,
      "outputs": []
    },
    {
      "cell_type": "markdown",
      "source": [
        "# Train & Evaluate"
      ],
      "metadata": {
        "id": "sz8PHsA52RKz"
      }
    },
    {
      "cell_type": "markdown",
      "source": [
        "## Set the parameters for training (batch size, the number of epochs, and learning rate)"
      ],
      "metadata": {
        "id": "69jcQ9dzIIAD"
      }
    },
    {
      "cell_type": "code",
      "source": [
        "batchsize = 256\n",
        "epochs = 10\n",
        "lr = 0.001"
      ],
      "metadata": {
        "id": "Dc_hfT2yICso"
      },
      "execution_count": null,
      "outputs": []
    },
    {
      "cell_type": "markdown",
      "source": [
        "## pytorch \n",
        "\n",
        "- need to write more code to specify the details of the training loop, such as the forward and backward passes through the network, the optimization algorithm, and the data loading and batching. \n"
      ],
      "metadata": {
        "id": "oZjWBxKS2nCa"
      }
    },
    {
      "cell_type": "markdown",
      "source": [
        "### write the util functions (score function, train function)"
      ],
      "metadata": {
        "id": "9X3JTseW_FPc"
      }
    },
    {
      "cell_type": "code",
      "source": [
        "# Define the score function to calculate accuracy\n",
        "def score(model, data_loader, criterion=None, verbose=True):\n",
        "    loss, correct = 0.0, 0\n",
        "    model.eval()\n",
        "\n",
        "    with torch.no_grad():\n",
        "        for data, target in data_loader:\n",
        "            data, target = data.to(device), target.to(device)\n",
        "\n",
        "            output = model(data)\n",
        "            if criterion is not None:\n",
        "                loss += criterion(output, target).item()\n",
        "            correct += (output.argmax(dim=1) == target).sum().item()\n",
        "    if criterion is not None:\n",
        "        loss /= len(data_loader.dataset)\n",
        "    acc = correct / len(data_loader.dataset)\n",
        "    \n",
        "    if verbose:\n",
        "        print('Average Loss: {:.6f}, Accuracy: {:.2f}%'.format(loss, acc*100))\n",
        "        \n",
        "    return loss, acc"
      ],
      "metadata": {
        "id": "9bkDK0R72tSm"
      },
      "execution_count": null,
      "outputs": []
    },
    {
      "cell_type": "code",
      "source": [
        "def train(model, train_loader, valid_loader, optimizer, criterion, num_epochs=10, verbose=True):\n",
        "    train_loss_list, valid_loss_list, train_acc_list, valid_acc_list = [], [], [], []\n",
        "    best_valid_loss = float('inf')\n",
        "    \n",
        "    for epoch in range(num_epochs):\n",
        "        train_loss, train_correct = 0, 0\n",
        "        model.train()\n",
        "        for batch_idx, (data, target) in enumerate(train_loader):\n",
        "            data, target = data.to(device), target.to(device)\n",
        "\n",
        "            optimizer.zero_grad()\n",
        "            output = model(data)\n",
        "            loss = criterion(output, target)\n",
        "            train_loss += loss.item()\n",
        "            train_correct += (output.argmax(dim=1) == target).sum().item()\n",
        "            loss.backward()\n",
        "            optimizer.step()\n",
        "\n",
        "            if verbose and (batch_idx % 100 == 0):\n",
        "                print('\\rTrain Epoch: {} [{}/{} ({:.0f}%)]\\tLoss: {:.6f}'.format(\n",
        "                    epoch+1, batch_idx*len(data), len(train_loader.dataset),\n",
        "                    100. * batch_idx / len(train_loader), loss.item()), end = '')\n",
        "                \n",
        "        train_loss /= len(train_loader.dataset)\n",
        "        train_acc = train_correct / len(train_loader.dataset)\n",
        "        train_loss_list.append(train_loss)\n",
        "        train_acc_list.append(train_acc)\n",
        "                \n",
        "        model.eval()\n",
        "        valid_loss, valid_acc = score(model, valid_loader, criterion, verbose=False)\n",
        "        valid_loss_list.append(valid_loss)\n",
        "        valid_acc_list.append(valid_acc)\n",
        "        \n",
        "        if valid_loss < best_valid_loss:\n",
        "            best_valid_loss = valid_loss\n",
        "            torch.save(model.state_dict(), 'best_model.pth')\n",
        "            \n",
        "        if verbose:\n",
        "            print('\\rEpoch: {} Train Loss: {:.6f}, Train Accuracy: {:.2f}%, Validation Loss: {:.6f}, Validation Accuracy: {:.2f}%'.format(\n",
        "                epoch+1, train_loss, train_acc*100, valid_loss, valid_acc*100))\n",
        "\n",
        "    return model, {'loss':train_loss_list, 'val_loss':valid_loss_list, 'accuracy':train_acc_list, 'val_accuracy':valid_acc_list}"
      ],
      "metadata": {
        "id": "kAHcMDMGCoA3"
      },
      "execution_count": null,
      "outputs": []
    },
    {
      "cell_type": "markdown",
      "source": [
        "### Train\n"
      ],
      "metadata": {
        "id": "pt8fjv-c96-r"
      }
    },
    {
      "cell_type": "markdown",
      "source": [
        "#### Define the dataloader with batchsize"
      ],
      "metadata": {
        "id": "Jcc2OYzaYMY3"
      }
    },
    {
      "cell_type": "code",
      "source": [],
      "metadata": {
        "id": "xJOsm6hTYWu_"
      },
      "execution_count": null,
      "outputs": []
    },
    {
      "cell_type": "code",
      "source": [
        "# Define data loaders for PyTorch\n",
        "train_loader = DataLoader(train_dataset, batch_size=batchsize, shuffle=True)\n",
        "valid_loader = DataLoader(valid_dataset, batch_size=batchsize, shuffle=False)\n",
        "test_loader = DataLoader(test_dataset, batch_size=batchsize, shuffle=False)\n",
        "\n",
        "criterion_torch = nn.CrossEntropyLoss()"
      ],
      "metadata": {
        "id": "0qW3xSKNFkVE"
      },
      "execution_count": null,
      "outputs": []
    },
    {
      "cell_type": "markdown",
      "source": [
        "#### Training"
      ],
      "metadata": {
        "id": "X69d8U9uYJsq"
      }
    },
    {
      "cell_type": "code",
      "source": [
        "mlp_torch = MLP().to(device)\n",
        "optimizer_mlp_torch = optim.Adam(mlp_torch.parameters(), lr=lr)\n",
        "mlp_torch, mlp_torch_history = train(mlp_torch, train_loader, valid_loader, optimizer_mlp_torch, criterion_torch, num_epochs=epochs)"
      ],
      "metadata": {
        "colab": {
          "base_uri": "https://localhost:8080/"
        },
        "id": "L5yTbGC_1vnq",
        "outputId": "590a8afc-51c5-41a2-9375-e399da874599"
      },
      "execution_count": null,
      "outputs": [
        {
          "output_type": "stream",
          "name": "stdout",
          "text": [
            "Epoch: 1 Train Loss: 0.024678, Train Accuracy: 89.09%, Validation Loss: 0.023937, Validation Accuracy: 93.88%\n",
            "Epoch: 2 Train Loss: 0.023696, Train Accuracy: 94.76%, Validation Loss: 0.023718, Validation Accuracy: 95.13%\n",
            "Epoch: 3 Train Loss: 0.023498, Train Accuracy: 96.00%, Validation Loss: 0.023669, Validation Accuracy: 95.40%\n",
            "Epoch: 4 Train Loss: 0.023406, Train Accuracy: 96.51%, Validation Loss: 0.023586, Validation Accuracy: 95.93%\n",
            "Epoch: 5 Train Loss: 0.023356, Train Accuracy: 96.80%, Validation Loss: 0.023524, Validation Accuracy: 96.32%\n",
            "Epoch: 6 Train Loss: 0.023302, Train Accuracy: 97.19%, Validation Loss: 0.023430, Validation Accuracy: 96.83%\n",
            "Epoch: 7 Train Loss: 0.023264, Train Accuracy: 97.41%, Validation Loss: 0.023697, Validation Accuracy: 95.15%\n",
            "Epoch: 8 Train Loss: 0.023260, Train Accuracy: 97.38%, Validation Loss: 0.023408, Validation Accuracy: 97.02%\n",
            "Epoch: 9 Train Loss: 0.023209, Train Accuracy: 97.74%, Validation Loss: 0.023530, Validation Accuracy: 96.22%\n",
            "Epoch: 10 Train Loss: 0.023231, Train Accuracy: 97.57%, Validation Loss: 0.023441, Validation Accuracy: 96.73%\n"
          ]
        }
      ]
    },
    {
      "cell_type": "code",
      "source": [
        "cnn_torch = CNN().to(device)\n",
        "optimizer_cnn_torch = optim.Adam(cnn_torch.parameters(), lr=lr)\n",
        "cnn_torch, cnn_torch_history = train(cnn_torch, train_loader, valid_loader, optimizer_cnn_torch, criterion_torch, num_epochs=epochs)"
      ],
      "metadata": {
        "colab": {
          "base_uri": "https://localhost:8080/"
        },
        "id": "HdJk1r-_-LEd",
        "outputId": "0b450b55-10b7-4140-f697-5e0f675ec9e6"
      },
      "execution_count": null,
      "outputs": [
        {
          "output_type": "stream",
          "name": "stdout",
          "text": [
            "Epoch: 1 Train Loss: 0.002308, Train Accuracy: 95.40%, Validation Loss: 0.000930, Validation Accuracy: 98.30%\n",
            "Epoch: 2 Train Loss: 0.000722, Train Accuracy: 98.62%, Validation Loss: 0.000680, Validation Accuracy: 98.77%\n",
            "Epoch: 3 Train Loss: 0.000502, Train Accuracy: 98.96%, Validation Loss: 0.000673, Validation Accuracy: 98.68%\n",
            "Epoch: 4 Train Loss: 0.000376, Train Accuracy: 99.22%, Validation Loss: 0.000524, Validation Accuracy: 99.14%\n",
            "Epoch: 5 Train Loss: 0.000292, Train Accuracy: 99.35%, Validation Loss: 0.000601, Validation Accuracy: 98.84%\n",
            "Epoch: 6 Train Loss: 0.000196, Train Accuracy: 99.59%, Validation Loss: 0.000559, Validation Accuracy: 98.98%\n",
            "Epoch: 7 Train Loss: 0.000178, Train Accuracy: 99.64%, Validation Loss: 0.000511, Validation Accuracy: 99.14%\n",
            "Epoch: 8 Train Loss: 0.000162, Train Accuracy: 99.65%, Validation Loss: 0.000617, Validation Accuracy: 99.01%\n",
            "Epoch: 9 Train Loss: 0.000124, Train Accuracy: 99.72%, Validation Loss: 0.000689, Validation Accuracy: 98.85%\n",
            "Epoch: 10 Train Loss: 0.000119, Train Accuracy: 99.74%, Validation Loss: 0.000775, Validation Accuracy: 98.84%\n"
          ]
        }
      ]
    },
    {
      "cell_type": "markdown",
      "source": [
        "### Evaluate"
      ],
      "metadata": {
        "id": "QMrCNN7T_MDK"
      }
    },
    {
      "cell_type": "code",
      "source": [
        "test_loss_mlp_torch, test_acc_mlp_torch = score(mlp_torch, test_loader, criterion_torch, verbose = False)\n",
        "test_loss_cnn_torch, test_acc_cnn_torch = score(cnn_torch, test_loader, criterion_torch, verbose = False)\n",
        "print(f'Test Accuracy (mlp_torch): {test_acc_mlp_torch*100:.2f}%')\n",
        "print(f'Test Accuracy (cnn_torch): {test_acc_cnn_torch*100:.2f}%')"
      ],
      "metadata": {
        "colab": {
          "base_uri": "https://localhost:8080/"
        },
        "id": "GdwObQgs1vg0",
        "outputId": "878c7fac-36b7-4582-d5be-a4f0cbe374d6"
      },
      "execution_count": null,
      "outputs": [
        {
          "output_type": "stream",
          "name": "stdout",
          "text": [
            "Test Accuracy (mlp_torch): 96.81%\n",
            "Test Accuracy (cnn_torch): 98.94%\n"
          ]
        }
      ]
    },
    {
      "cell_type": "markdown",
      "source": [
        "## Tensorflow (no need the util functions)"
      ],
      "metadata": {
        "id": "8k1NlI13_ebk"
      }
    },
    {
      "cell_type": "code",
      "source": [
        "mlp_tf.compile(optimizer='adam', loss='categorical_crossentropy', metrics=['accuracy'])\n",
        "cnn_tf.compile(optimizer='adam', loss='categorical_crossentropy', metrics=['accuracy'])"
      ],
      "metadata": {
        "id": "Ply5fskp_mOt"
      },
      "execution_count": null,
      "outputs": []
    },
    {
      "cell_type": "markdown",
      "source": [
        "### Train (fit)"
      ],
      "metadata": {
        "id": "gzk7LY31_8wr"
      }
    },
    {
      "cell_type": "code",
      "source": [
        "# Train the TensorFlow model for a specified number of epochs\n",
        "mlp_tf_history = mlp_tf.fit(train_images, train_labels, validation_data=(valid_images, valid_labels), epochs=epochs, batch_size=batchsize)"
      ],
      "metadata": {
        "colab": {
          "base_uri": "https://localhost:8080/"
        },
        "id": "N6Y2cmqRzNOH",
        "outputId": "cfae79fd-c805-4720-89ab-79bc28971302"
      },
      "execution_count": null,
      "outputs": [
        {
          "output_type": "stream",
          "name": "stdout",
          "text": [
            "Epoch 1/10\n",
            "782/782 [==============================] - 5s 4ms/step - loss: 0.2594 - accuracy: 0.9227 - val_loss: 0.1210 - val_accuracy: 0.9651\n",
            "Epoch 2/10\n",
            "782/782 [==============================] - 3s 4ms/step - loss: 0.1016 - accuracy: 0.9690 - val_loss: 0.0921 - val_accuracy: 0.9713\n",
            "Epoch 3/10\n",
            "782/782 [==============================] - 3s 4ms/step - loss: 0.0658 - accuracy: 0.9797 - val_loss: 0.0880 - val_accuracy: 0.9725\n",
            "Epoch 4/10\n",
            "782/782 [==============================] - 3s 4ms/step - loss: 0.0472 - accuracy: 0.9854 - val_loss: 0.0821 - val_accuracy: 0.9760\n",
            "Epoch 5/10\n",
            "782/782 [==============================] - 3s 4ms/step - loss: 0.0352 - accuracy: 0.9877 - val_loss: 0.0889 - val_accuracy: 0.9755\n",
            "Epoch 6/10\n",
            "782/782 [==============================] - 4s 5ms/step - loss: 0.0301 - accuracy: 0.9900 - val_loss: 0.0921 - val_accuracy: 0.9744\n",
            "Epoch 7/10\n",
            "782/782 [==============================] - 3s 4ms/step - loss: 0.0199 - accuracy: 0.9934 - val_loss: 0.1038 - val_accuracy: 0.9734\n",
            "Epoch 8/10\n",
            "782/782 [==============================] - 3s 4ms/step - loss: 0.0185 - accuracy: 0.9941 - val_loss: 0.1129 - val_accuracy: 0.9740\n",
            "Epoch 9/10\n",
            "782/782 [==============================] - 4s 5ms/step - loss: 0.0215 - accuracy: 0.9929 - val_loss: 0.1045 - val_accuracy: 0.9723\n",
            "Epoch 10/10\n",
            "782/782 [==============================] - 3s 4ms/step - loss: 0.0135 - accuracy: 0.9953 - val_loss: 0.0876 - val_accuracy: 0.9806\n"
          ]
        }
      ]
    },
    {
      "cell_type": "code",
      "source": [
        "cnn_tf_history = cnn_tf.fit(train_images, train_labels, validation_data=(valid_images, valid_labels), epochs=epochs, batch_size=batchsize)"
      ],
      "metadata": {
        "colab": {
          "base_uri": "https://localhost:8080/"
        },
        "id": "pA2IWksSZMYe",
        "outputId": "8c5d0d5f-2d7f-44ca-dfe1-de1a754de653"
      },
      "execution_count": null,
      "outputs": [
        {
          "output_type": "stream",
          "name": "stdout",
          "text": [
            "Epoch 1/10\n",
            "782/782 [==============================] - 7s 6ms/step - loss: 0.1781 - accuracy: 0.9463 - val_loss: 0.0604 - val_accuracy: 0.9833\n",
            "Epoch 2/10\n",
            "782/782 [==============================] - 3s 4ms/step - loss: 0.0536 - accuracy: 0.9833 - val_loss: 0.0453 - val_accuracy: 0.9880\n",
            "Epoch 3/10\n",
            "782/782 [==============================] - 4s 5ms/step - loss: 0.0350 - accuracy: 0.9890 - val_loss: 0.0375 - val_accuracy: 0.9895\n",
            "Epoch 4/10\n",
            "782/782 [==============================] - 4s 5ms/step - loss: 0.0264 - accuracy: 0.9913 - val_loss: 0.0365 - val_accuracy: 0.9890\n",
            "Epoch 5/10\n",
            "782/782 [==============================] - 3s 4ms/step - loss: 0.0194 - accuracy: 0.9937 - val_loss: 0.0392 - val_accuracy: 0.9901\n",
            "Epoch 6/10\n",
            "782/782 [==============================] - 4s 5ms/step - loss: 0.0162 - accuracy: 0.9949 - val_loss: 0.0378 - val_accuracy: 0.9909\n",
            "Epoch 7/10\n",
            "782/782 [==============================] - 4s 6ms/step - loss: 0.0126 - accuracy: 0.9957 - val_loss: 0.0384 - val_accuracy: 0.9911\n",
            "Epoch 8/10\n",
            "782/782 [==============================] - 4s 5ms/step - loss: 0.0093 - accuracy: 0.9967 - val_loss: 0.0528 - val_accuracy: 0.9870\n",
            "Epoch 9/10\n",
            "782/782 [==============================] - 3s 4ms/step - loss: 0.0092 - accuracy: 0.9965 - val_loss: 0.0517 - val_accuracy: 0.9881\n",
            "Epoch 10/10\n",
            "782/782 [==============================] - 4s 5ms/step - loss: 0.0061 - accuracy: 0.9982 - val_loss: 0.0419 - val_accuracy: 0.9911\n"
          ]
        }
      ]
    },
    {
      "cell_type": "markdown",
      "source": [
        "### Evaluate"
      ],
      "metadata": {
        "id": "2GVnNxNS_6a4"
      }
    },
    {
      "cell_type": "code",
      "source": [
        "# Evaluate the TensorFlow model on the test set\n",
        "test_loss_tf, test_acc_mlp_tf = mlp_tf.evaluate(test_images, test_labels, verbose=0)\n",
        "test_loss_tf, test_acc_cnn_tf = cnn_tf.evaluate(test_images, test_labels, verbose=0)\n",
        "print(f'Test Accuracy (mlp_tf): {test_acc_mlp_tf*100:.2f}%')\n",
        "print(f'Test Accuracy (cnn_tf): {test_acc_cnn_tf*100:.2f}%')"
      ],
      "metadata": {
        "colab": {
          "base_uri": "https://localhost:8080/"
        },
        "id": "2RhCaawyzRv2",
        "outputId": "cb5beb6e-06ec-4f1f-b382-b96b6730c1ff"
      },
      "execution_count": null,
      "outputs": [
        {
          "output_type": "stream",
          "name": "stdout",
          "text": [
            "Test Accuracy (mlp_tf): 98.11%\n",
            "Test Accuracy (cnn_tf): 99.14%\n"
          ]
        }
      ]
    },
    {
      "cell_type": "markdown",
      "source": [
        "# Make the result plots (loss & accuracy)"
      ],
      "metadata": {
        "id": "AFGVXGa6HDvV"
      }
    },
    {
      "cell_type": "code",
      "source": [
        "def make_plots(history):\n",
        "    plt.figure(figsize=(12,3))\n",
        "    plt.subplot(1,2,1)\n",
        "    plt.plot(history['loss'], label='Train')\n",
        "    plt.plot(history['val_loss'], label='Validation')\n",
        "    plt.xlabel('Epoch')\n",
        "    plt.ylabel('Loss')\n",
        "    plt.title('Training and Validation Loss')\n",
        "    plt.legend()\n",
        "\n",
        "    plt.subplot(1,2,2)\n",
        "    plt.plot(history['accuracy'], label='Train')\n",
        "    plt.plot(history['val_accuracy'], label='Validation')\n",
        "    plt.xlabel('Epoch')\n",
        "    plt.ylabel('Accuracy')\n",
        "    plt.title('Training and Validation Accuracy')\n",
        "    plt.legend()\n",
        "\n",
        "    plt.show()"
      ],
      "metadata": {
        "id": "RjvqqX-kAREn"
      },
      "execution_count": null,
      "outputs": []
    },
    {
      "cell_type": "code",
      "source": [
        "make_plots(mlp_torch_history)\n",
        "make_plots(cnn_torch_history)\n",
        "make_plots(mlp_tf_history.history)\n",
        "make_plots(cnn_tf_history.history)"
      ],
      "metadata": {
        "colab": {
          "base_uri": "https://localhost:8080/",
          "height": 913
        },
        "id": "H3UNlRiMHNlk",
        "outputId": "505c8b08-732b-4c78-a4a2-fbf8315b093e"
      },
      "execution_count": null,
      "outputs": [
        {
          "output_type": "display_data",
          "data": {
            "text/plain": [
              "<Figure size 864x216 with 2 Axes>"
            ],
            "image/png": "[encoded data removed]"
          },
          "metadata": {
            "needs_background": "light"
          }
        },
        {
          "output_type": "display_data",
          "data": {
            "text/plain": [
              "<Figure size 864x216 with 2 Axes>"
            ],
            "image/png": "[encoded data removed]"
          },
          "metadata": {
            "needs_background": "light"
          }
        },
        {
          "output_type": "display_data",
          "data": {
            "text/plain": [
              "<Figure size 864x216 with 2 Axes>"
            ],
            "image/png": "[encoded data removed]"
          },
          "metadata": {
            "needs_background": "light"
          }
        },
        {
          "output_type": "display_data",
          "data": {
            "text/plain": [
              "<Figure size 864x216 with 2 Axes>"
            ],
            "image/png": "[encoded data removed]"
          },
          "metadata": {
            "needs_background": "light"
          }
        }
      ]
    },
    {
      "cell_type": "markdown",
      "source": [],
      "metadata": {
        "id": "5T82_NJVbb7q"
      }
    }
  ]
}